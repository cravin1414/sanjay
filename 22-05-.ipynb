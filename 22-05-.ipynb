{
 "cells": [
  {
   "cell_type": "code",
   "execution_count": 50,
   "id": "ebc8ea63-a315-4745-85ed-d6fba25e3f9a",
   "metadata": {},
   "outputs": [
    {
     "name": "stdin",
     "output_type": "stream",
     "text": [
      "enter number: 9\n",
      "enter number: 0\n"
     ]
    },
    {
     "name": "stdout",
     "output_type": "stream",
     "text": [
      "ZeroDivisionError division by zero\n",
      "thank you\n"
     ]
    }
   ],
   "source": [
    "##Revision\n",
    "try:\n",
    "    a=int(input(\"enter number:\"))\n",
    "    b=int(input(\"enter number:\"))\n",
    "    print(a/b)\n",
    "except ZeroDivisionError as e:\n",
    "    print(\"ZeroDivisionError\",e)\n",
    "except Exception as e:\n",
    "    print(\"Exception\",e)\n",
    "finally:\n",
    "    print(\"thank you\")\n",
    "    \n",
    "    \n",
    "    "
   ]
  },
  {
   "cell_type": "code",
   "execution_count": 7,
   "id": "c33a28e0-da16-41e3-b6e1-3555ef843ca8",
   "metadata": {},
   "outputs": [
    {
     "name": "stdout",
     "output_type": "stream",
     "text": [
      "rahul\n",
      "dharani\n",
      "msc 90\n",
      "bsc 78\n"
     ]
    }
   ],
   "source": [
    "cravin={\"rahul\":\"89\",\"dharani\":\"90\"}\n",
    "for i in cravin:\n",
    "    print(i)\n",
    "for key,value in college.items():\n",
    "    print(key,value)"
   ]
  },
  {
   "cell_type": "code",
   "execution_count": 6,
   "id": "db86b16f-01b4-4767-bc67-1d9b77269844",
   "metadata": {},
   "outputs": [
    {
     "name": "stdout",
     "output_type": "stream",
     "text": [
      "msc 90\n",
      "bsc 78\n"
     ]
    }
   ],
   "source": [
    "college={\"msc\":\"90\",\"bsc\":\"78\"}\n",
    "for key,value in college.items():\n",
    "    print(key,value)"
   ]
  },
  {
   "cell_type": "code",
   "execution_count": 12,
   "id": "eff7dc20-59b2-4e74-9a91-f27419075bd2",
   "metadata": {},
   "outputs": [
    {
     "name": "stdout",
     "output_type": "stream",
     "text": [
      "3.141592653589793\n",
      "1.5574077246549023\n",
      "5.0\n",
      "power: 256.0\n"
     ]
    }
   ],
   "source": [
    "###standard libaries\n",
    "import math as m\n",
    "print(m.pi)\n",
    "print(m.tan(1))\n",
    "print(m.sqrt(25))\n",
    "print(\"power:\",m.pow(2,8))"
   ]
  },
  {
   "cell_type": "code",
   "execution_count": 13,
   "id": "362f4fa0-e7ea-429c-af89-d6b9ad71f445",
   "metadata": {},
   "outputs": [
    {
     "name": "stdout",
     "output_type": "stream",
     "text": [
      "power: 3125.0\n"
     ]
    }
   ],
   "source": [
    "print(\"power:\",m.pow(5,5))"
   ]
  },
  {
   "cell_type": "code",
   "execution_count": 17,
   "id": "d87e2166-9809-42ae-bfef-7ac5c8d0107e",
   "metadata": {},
   "outputs": [
    {
     "name": "stdout",
     "output_type": "stream",
     "text": [
      "floor: 89\n"
     ]
    }
   ],
   "source": [
    "print(\"floor:\",m.floor(89.67))"
   ]
  },
  {
   "cell_type": "code",
   "execution_count": 18,
   "id": "77cabad7-d042-445c-8fcb-780e2a47a74b",
   "metadata": {},
   "outputs": [
    {
     "name": "stdout",
     "output_type": "stream",
     "text": [
      "ceil: 9\n"
     ]
    }
   ],
   "source": [
    "print(\"ceil:\",m.ceil(8.8))"
   ]
  },
  {
   "cell_type": "code",
   "execution_count": 23,
   "id": "2a16ce6a-8a89-41f8-9c71-d99e983124dd",
   "metadata": {},
   "outputs": [
    {
     "name": "stdout",
     "output_type": "stream",
     "text": [
      "Date: 2025-05-22 11:15:55.586819\n"
     ]
    }
   ],
   "source": [
    "###datetime concepts\n",
    "import datetime as dt\n",
    "print(\"Date:\",dt.datetime.today())"
   ]
  },
  {
   "cell_type": "code",
   "execution_count": 25,
   "id": "67b93912-0dde-4e4b-8a44-4facb8166c72",
   "metadata": {},
   "outputs": [
    {
     "name": "stdout",
     "output_type": "stream",
     "text": [
      "2025-05-22 11:19:44.474591\n",
      "2025-12-12 07:09:54\n"
     ]
    }
   ],
   "source": [
    "import datetime as dt\n",
    "print(dt.datetime.now())\n",
    "print(dt.datetime(2025,12,12,7,9,54))"
   ]
  },
  {
   "cell_type": "code",
   "execution_count": 31,
   "id": "4b834f0d-7877-4317-ba61-8b41f80d66fa",
   "metadata": {},
   "outputs": [
    {
     "name": "stdout",
     "output_type": "stream",
     "text": [
      "Thu May 22 11:49:29 2025\n"
     ]
    }
   ],
   "source": [
    "import time\n",
    "x=time.time()\n",
    "print(time.ctime(x))"
   ]
  },
  {
   "cell_type": "code",
   "execution_count": 32,
   "id": "73e5bb10-1c80-4789-a99a-2d58952a32a9",
   "metadata": {},
   "outputs": [
    {
     "name": "stdout",
     "output_type": "stream",
     "text": [
      "C:\\Users\\Arun\n"
     ]
    }
   ],
   "source": [
    "import os as o\n",
    "print(o.getcwd())"
   ]
  },
  {
   "cell_type": "code",
   "execution_count": 34,
   "id": "df190044-0545-428f-b6c3-6cbb790cc996",
   "metadata": {},
   "outputs": [
    {
     "name": "stdout",
     "output_type": "stream",
     "text": [
      "['.anaconda', '.conda', '.condarc', '.continuum', '.ipynb_checkpoints', '.ipython', '.jupyter', '.vscode', '20-05.ipynb', '21-05.ipynb', 'anaconda3', 'anaconda_projects', 'AppData', 'Application Data', 'Contacts', 'Cookies', 'crav1605.ipynb', 'crav1905.ipynb', 'Desktop', 'Documents', 'Downloads', 'Favorites', 'Links', 'Local Settings', 'Music', 'My Documents', 'NetHood', 'NTUSER.DAT', 'ntuser.dat.LOG1', 'ntuser.dat.LOG2', 'NTUSER.DAT{2e35ca61-3029-11f0-952e-b4b5b687fe6a}.TM.blf', 'NTUSER.DAT{2e35ca61-3029-11f0-952e-b4b5b687fe6a}.TMContainer00000000000000000001.regtrans-ms', 'NTUSER.DAT{2e35ca61-3029-11f0-952e-b4b5b687fe6a}.TMContainer00000000000000000002.regtrans-ms', 'ntuser.ini', 'OneDrive', 'Pictures', 'PrintHood', 'Recent', 'Saved Games', 'Searches', 'SendTo', 'simple file', 'Start Menu', 'Templates', 'Untitled.ipynb', 'untitled.txt', 'Untitled1.ipynb', 'Untitled2.ipynb', 'Untitled3.ipynb', 'Untitled4.ipynb', 'Untitled5.ipynb', 'Untitled6.ipynb', 'Untitled7.ipynb', 'Untitled8.ipynb', 'Untitled9.ipynb', 'Videos']\n"
     ]
    }
   ],
   "source": [
    "import os as o\n",
    "print(o.listdir(o.getcwd()))"
   ]
  },
  {
   "cell_type": "code",
   "execution_count": 53,
   "id": "72b4dd59-d55b-4483-af58-e7d0e798b678",
   "metadata": {},
   "outputs": [
    {
     "name": "stdout",
     "output_type": "stream",
     "text": [
      "5.0\n",
      "1.6197751905438615\n",
      "3.141592653589793\n",
      "1024.0\n",
      "-8\n",
      "9\n",
      "8.9\n"
     ]
    }
   ],
   "source": [
    "import math as m\n",
    "print(m.sqrt(25))\n",
    "print(m.tan(45))\n",
    "print(m.pi)\n",
    "print(m.pow(4,5))\n",
    "print(m.floor(-7.9))\n",
    "print(m.ceil(8.1))\n",
    "print(m.fabs(-8.9))"
   ]
  },
  {
   "cell_type": "code",
   "execution_count": 39,
   "id": "6310f118-bd1a-405f-a7d3-2e76d9582b5d",
   "metadata": {},
   "outputs": [
    {
     "name": "stdout",
     "output_type": "stream",
     "text": [
      "year: 2025\n",
      "Hour: 12\n",
      "Minute: 23\n",
      "month: 5\n",
      "second: 39\n",
      "Day of week: 3\n",
      "Day of year: 142\n"
     ]
    }
   ],
   "source": [
    "import time\n",
    "x=time.localtime()\n",
    "print(\"year:\",x.tm_year)\n",
    "print(\"Hour:\",x.tm_hour)\n",
    "print(\"Minute:\",x.tm_min)\n",
    "print(\"month:\",x.tm_mon)\n",
    "print(\"second:\",x.tm_sec)\n",
    "print(\"Day of week:\",x.tm_wday)\n",
    "print(\"Day of year:\",x.tm_yday)"
   ]
  },
  {
   "cell_type": "code",
   "execution_count": 43,
   "id": "aa9d75e0-c3fc-4c78-93a0-94e9fe68099a",
   "metadata": {},
   "outputs": [
    {
     "name": "stdout",
     "output_type": "stream",
     "text": [
      "date: 2025-05-22 12:27:19.039073\n"
     ]
    }
   ],
   "source": [
    "import datetime as dt\n",
    "print(\"date:\",dt.datetime.now())"
   ]
  },
  {
   "cell_type": "code",
   "execution_count": 49,
   "id": "316a8286-f8d4-4fc0-ab58-beb9f6561b3e",
   "metadata": {},
   "outputs": [
    {
     "name": "stdout",
     "output_type": "stream",
     "text": [
      "here is the calendar:      June 2026\n",
      "Mo Tu We Th Fr Sa Su\n",
      " 1  2  3  4  5  6  7\n",
      " 8  9 10 11 12 13 14\n",
      "15 16 17 18 19 20 21\n",
      "22 23 24 25 26 27 28\n",
      "29 30\n",
      "\n"
     ]
    }
   ],
   "source": [
    "import calendar\n",
    "y=calendar.month(2026,6)\n",
    "print(\"here is the calendar:\",y)"
   ]
  },
  {
   "cell_type": "code",
   "execution_count": 57,
   "id": "0c143a0f-5042-4404-905b-448e018db1c6",
   "metadata": {},
   "outputs": [
    {
     "name": "stdout",
     "output_type": "stream",
     "text": [
      "calendar:                                   2030\n",
      "\n",
      "      January                   February                   March\n",
      "Mo Tu We Th Fr Sa Su      Mo Tu We Th Fr Sa Su      Mo Tu We Th Fr Sa Su\n",
      "    1  2  3  4  5  6                   1  2  3                   1  2  3\n",
      " 7  8  9 10 11 12 13       4  5  6  7  8  9 10       4  5  6  7  8  9 10\n",
      "14 15 16 17 18 19 20      11 12 13 14 15 16 17      11 12 13 14 15 16 17\n",
      "21 22 23 24 25 26 27      18 19 20 21 22 23 24      18 19 20 21 22 23 24\n",
      "28 29 30 31               25 26 27 28               25 26 27 28 29 30 31\n",
      "\n",
      "       April                      May                       June\n",
      "Mo Tu We Th Fr Sa Su      Mo Tu We Th Fr Sa Su      Mo Tu We Th Fr Sa Su\n",
      " 1  2  3  4  5  6  7             1  2  3  4  5                      1  2\n",
      " 8  9 10 11 12 13 14       6  7  8  9 10 11 12       3  4  5  6  7  8  9\n",
      "15 16 17 18 19 20 21      13 14 15 16 17 18 19      10 11 12 13 14 15 16\n",
      "22 23 24 25 26 27 28      20 21 22 23 24 25 26      17 18 19 20 21 22 23\n",
      "29 30                     27 28 29 30 31            24 25 26 27 28 29 30\n",
      "\n",
      "        July                     August                  September\n",
      "Mo Tu We Th Fr Sa Su      Mo Tu We Th Fr Sa Su      Mo Tu We Th Fr Sa Su\n",
      " 1  2  3  4  5  6  7                1  2  3  4                         1\n",
      " 8  9 10 11 12 13 14       5  6  7  8  9 10 11       2  3  4  5  6  7  8\n",
      "15 16 17 18 19 20 21      12 13 14 15 16 17 18       9 10 11 12 13 14 15\n",
      "22 23 24 25 26 27 28      19 20 21 22 23 24 25      16 17 18 19 20 21 22\n",
      "29 30 31                  26 27 28 29 30 31         23 24 25 26 27 28 29\n",
      "                                                    30\n",
      "\n",
      "      October                   November                  December\n",
      "Mo Tu We Th Fr Sa Su      Mo Tu We Th Fr Sa Su      Mo Tu We Th Fr Sa Su\n",
      "    1  2  3  4  5  6                   1  2  3                         1\n",
      " 7  8  9 10 11 12 13       4  5  6  7  8  9 10       2  3  4  5  6  7  8\n",
      "14 15 16 17 18 19 20      11 12 13 14 15 16 17       9 10 11 12 13 14 15\n",
      "21 22 23 24 25 26 27      18 19 20 21 22 23 24      16 17 18 19 20 21 22\n",
      "28 29 30 31               25 26 27 28 29 30         23 24 25 26 27 28 29\n",
      "                                                    30 31\n",
      "\n"
     ]
    }
   ],
   "source": [
    "import calendar\n",
    "year=calendar.calendar(2030)\n",
    "print(\"calendar:\",year)"
   ]
  },
  {
   "cell_type": "code",
   "execution_count": 61,
   "id": "4eea5b36-b945-43bd-8cb6-c8a3c0a2d88e",
   "metadata": {},
   "outputs": [
    {
     "data": {
      "text/plain": [
       "'C:\\\\Users\\\\Arun'"
      ]
     },
     "execution_count": 61,
     "metadata": {},
     "output_type": "execute_result"
    }
   ],
   "source": [
    "##os \n",
    "import os\n",
    "dir(os)\n",
    "os.getcwd()\n"
   ]
  },
  {
   "cell_type": "code",
   "execution_count": 97,
   "id": "18f129c7-538e-46f3-95a7-f917e0d8d184",
   "metadata": {},
   "outputs": [
    {
     "data": {
      "text/plain": [
       "['AccountPictures',\n",
       " 'cravin',\n",
       " 'cricket',\n",
       " 'Desktop',\n",
       " 'desktop.ini',\n",
       " 'Documents',\n",
       " 'Downloads',\n",
       " 'Libraries',\n",
       " 'Music',\n",
       " 'mydir',\n",
       " 'Pictures',\n",
       " 'Videos']"
      ]
     },
     "execution_count": 97,
     "metadata": {},
     "output_type": "execute_result"
    }
   ],
   "source": [
    "os.chdir('C:/Users/Public')\n",
    "os.getcwd()\n",
    "\n",
    "os.listdir()\n",
    "\n",
    "\n",
    "\n"
   ]
  },
  {
   "cell_type": "code",
   "execution_count": 99,
   "id": "4a8cc877-427a-484a-8287-4158162a34fe",
   "metadata": {},
   "outputs": [
    {
     "data": {
      "text/plain": [
       "['AccountPictures',\n",
       " 'cricket',\n",
       " 'Desktop',\n",
       " 'desktop.ini',\n",
       " 'Documents',\n",
       " 'Downloads',\n",
       " 'football',\n",
       " 'Libraries',\n",
       " 'Music',\n",
       " 'mydir',\n",
       " 'Pictures',\n",
       " 'Videos']"
      ]
     },
     "execution_count": 99,
     "metadata": {},
     "output_type": "execute_result"
    }
   ],
   "source": [
    "os.mkdir('football')\n",
    "os.listdir()"
   ]
  },
  {
   "cell_type": "code",
   "execution_count": 80,
   "id": "74069081-549c-498c-a597-59ec6d05b063",
   "metadata": {},
   "outputs": [
    {
     "data": {
      "text/plain": [
       "['AccountPictures',\n",
       " 'cricket',\n",
       " 'Desktop',\n",
       " 'desktop.ini',\n",
       " 'Documents',\n",
       " 'Downloads',\n",
       " 'Libraries',\n",
       " 'Music',\n",
       " 'mydir',\n",
       " 'Pictures',\n",
       " 'testing',\n",
       " 'Videos']"
      ]
     },
     "execution_count": 80,
     "metadata": {},
     "output_type": "execute_result"
    }
   ],
   "source": [
    "os.makedirs('mydir/sub_testing')\n",
    "os.listdir()\n"
   ]
  },
  {
   "cell_type": "code",
   "execution_count": 100,
   "id": "80a44007-b64a-4a1e-81ba-6b354bac1a1b",
   "metadata": {},
   "outputs": [
    {
     "data": {
      "text/plain": [
       "['AccountPictures',\n",
       " 'cricket',\n",
       " 'Desktop',\n",
       " 'desktop.ini',\n",
       " 'Documents',\n",
       " 'Downloads',\n",
       " 'Libraries',\n",
       " 'Music',\n",
       " 'mydir',\n",
       " 'Pictures',\n",
       " 'Videos']"
      ]
     },
     "execution_count": 100,
     "metadata": {},
     "output_type": "execute_result"
    }
   ],
   "source": [
    "os.rmdir('football')\n",
    "os.listdir()"
   ]
  },
  {
   "cell_type": "code",
   "execution_count": 108,
   "id": "891a83f1-4156-4832-a3fc-db62ad9c2281",
   "metadata": {},
   "outputs": [
    {
     "name": "stdout",
     "output_type": "stream",
     "text": [
      "89\n",
      "90.80338932519695\n"
     ]
    }
   ],
   "source": [
    "import random\n",
    "a=[89,90,91]\n",
    "print(random.choice(a))\n",
    "print(random.uniform(89,91))"
   ]
  },
  {
   "cell_type": "code",
   "execution_count": 106,
   "id": "93e00913-79a5-48b4-9af2-778f78a69379",
   "metadata": {},
   "outputs": [
    {
     "name": "stdout",
     "output_type": "stream",
     "text": [
      "0.8020971738344913\n"
     ]
    }
   ],
   "source": [
    "import random\n",
    "print(random.random())"
   ]
  },
  {
   "cell_type": "code",
   "execution_count": 123,
   "id": "94780941-82db-4cb5-b9af-d1eadda636df",
   "metadata": {},
   "outputs": [
    {
     "data": {
      "text/plain": [
       "('_abc',\n",
       " '_ast',\n",
       " '_bisect',\n",
       " '_blake2',\n",
       " '_codecs',\n",
       " '_codecs_cn',\n",
       " '_codecs_hk',\n",
       " '_codecs_iso2022',\n",
       " '_codecs_jp',\n",
       " '_codecs_kr',\n",
       " '_codecs_tw',\n",
       " '_collections',\n",
       " '_contextvars',\n",
       " '_csv',\n",
       " '_datetime',\n",
       " '_functools',\n",
       " '_heapq',\n",
       " '_imp',\n",
       " '_io',\n",
       " '_json',\n",
       " '_locale',\n",
       " '_lsprof',\n",
       " '_md5',\n",
       " '_multibytecodec',\n",
       " '_opcode',\n",
       " '_operator',\n",
       " '_pickle',\n",
       " '_random',\n",
       " '_sha1',\n",
       " '_sha2',\n",
       " '_sha3',\n",
       " '_signal',\n",
       " '_sre',\n",
       " '_stat',\n",
       " '_statistics',\n",
       " '_string',\n",
       " '_struct',\n",
       " '_symtable',\n",
       " '_thread',\n",
       " '_tokenize',\n",
       " '_tracemalloc',\n",
       " '_typing',\n",
       " '_warnings',\n",
       " '_weakref',\n",
       " '_winapi',\n",
       " '_xxinterpchannels',\n",
       " '_xxsubinterpreters',\n",
       " 'array',\n",
       " 'atexit',\n",
       " 'audioop',\n",
       " 'binascii',\n",
       " 'builtins',\n",
       " 'cmath',\n",
       " 'errno',\n",
       " 'faulthandler',\n",
       " 'gc',\n",
       " 'itertools',\n",
       " 'marshal',\n",
       " 'math',\n",
       " 'mmap',\n",
       " 'msvcrt',\n",
       " 'nt',\n",
       " 'sys',\n",
       " 'time',\n",
       " 'winreg',\n",
       " 'xxsubtype',\n",
       " 'zlib')"
      ]
     },
     "execution_count": 123,
     "metadata": {},
     "output_type": "execute_result"
    }
   ],
   "source": [
    "###sys\n",
    "import sys\n",
    "sys.version\n",
    "sys.copyright\n",
    "sys.builtin_module_names\n"
   ]
  },
  {
   "cell_type": "code",
   "execution_count": 124,
   "id": "41271243-9928-42ea-9cfe-0e0cf56bdfbf",
   "metadata": {},
   "outputs": [
    {
     "name": "stdout",
     "output_type": "stream",
     "text": [
      "cravin\n",
      "sanjay\n"
     ]
    }
   ],
   "source": [
    "##itertion tools\n",
    "a=[\"cravin\",\"sanjay\"]\n",
    "for i in a:\n",
    "    print(i)"
   ]
  },
  {
   "cell_type": "code",
   "execution_count": 131,
   "id": "e6e68818-e602-4257-9f75-9560466838fa",
   "metadata": {},
   "outputs": [
    {
     "name": "stdout",
     "output_type": "stream",
     "text": [
      "[8, 9.7, 6, 10]\n",
      "[8, 9.7, 6, 10]\n",
      "[8, 9.7, 6, 10]\n",
      "[8, 9.7, 6, 10]\n"
     ]
    }
   ],
   "source": [
    "a=[8,9.7,6,10]\n",
    "for i in a:\n",
    "    print(a)"
   ]
  },
  {
   "cell_type": "code",
   "execution_count": 132,
   "id": "5b2a8279-6cca-45f8-894d-7406d7ac0638",
   "metadata": {},
   "outputs": [
    {
     "data": {
      "text/plain": [
       "8"
      ]
     },
     "execution_count": 132,
     "metadata": {},
     "output_type": "execute_result"
    }
   ],
   "source": [
    "a=iter(a)\n",
    "next(a)"
   ]
  },
  {
   "cell_type": "code",
   "execution_count": 134,
   "id": "89b7d8e3-4fa5-4c86-8d98-7d0ced987e66",
   "metadata": {},
   "outputs": [
    {
     "name": "stdout",
     "output_type": "stream",
     "text": [
      "<itertools.chain object at 0x000001F2C8876E90>\n",
      "[90, 89, 8]\n",
      "[6, 7, 8]\n"
     ]
    }
   ],
   "source": [
    "from itertools import chain\n",
    "a=[90,89,8]\n",
    "b=[6,7,8]\n",
    "c=[2,3,4]\n",
    "print(chain(a,b))\n",
    "for i in a,b:\n",
    "    print(i)"
   ]
  },
  {
   "cell_type": "code",
   "execution_count": 22,
   "id": "135cb3d7-3ab0-4f0a-a470-95fe515f0645",
   "metadata": {},
   "outputs": [
    {
     "data": {
      "text/plain": [
       "198"
      ]
     },
     "execution_count": 22,
     "metadata": {},
     "output_type": "execute_result"
    }
   ],
   "source": [
    "###functools\n",
    "from operator import mul\n",
    "from functools import partial\n",
    "cravin=partial(mul,2)\n",
    "cravin(99)\n"
   ]
  },
  {
   "cell_type": "code",
   "execution_count": 25,
   "id": "d8df9e44-314d-4ca6-9e5b-3ff0080120af",
   "metadata": {},
   "outputs": [
    {
     "name": "stdout",
     "output_type": "stream",
     "text": [
      "2025-05-22 17:48:29.913238\n",
      "      May 2025\n",
      "Mo Tu We Th Fr Sa Su\n",
      "          1  2  3  4\n",
      " 5  6  7  8  9 10 11\n",
      "12 13 14 15 16 17 18\n",
      "19 20 21 22 23 24 25\n",
      "26 27 28 29 30 31\n",
      "\n"
     ]
    }
   ],
   "source": [
    "###practice questions\n",
    "import datetime as d\n",
    "print(d.datetime.now())\n",
    "\n",
    "import calendar\n",
    "x=calendar.month(2025,5)\n",
    "print(x)\n",
    "\n",
    "import time\n",
    "y=time.localtime()\n",
    "print(y)\n",
    "##os and #syss\n",
    "##os\n",
    "import os\n",
    "os.chdir()\n",
    "os.makdir()\n",
    "os.listdir()\n",
    "os.getcwd()\n",
    "os.makedirs()\n",
    "\n",
    "###sys\n",
    "sys.system\n",
    "sys.copyright\n",
    "sys.version\n",
    "sys.builtin_modules_name\n",
    "\n",
    "##math\n",
    "import math as m\n",
    "print(m.sqrt())\n",
    "print(m.pow())\n",
    "print(m.pi())\n",
    "print(m.tan())\n",
    "print(m.ceil())\n",
    "print(m.floor())\n",
    "print(m.fabs())\n",
    "\n",
    "##random\n",
    "random.random()\n",
    "random.uniform()\n",
    "random.shuffle()\n",
    "\n",
    "##itertools\n",
    "from itertools import chain\n",
    "itr=()\n",
    "next()\n",
    "\n",
    "###functools\n",
    "from operator import par\n",
    "\n"
   ]
  },
  {
   "cell_type": "code",
   "execution_count": null,
   "id": "eaec5833-834c-4b94-9365-1ac5d7650a3e",
   "metadata": {},
   "outputs": [],
   "source": []
  }
 ],
 "metadata": {
  "kernelspec": {
   "display_name": "Python [conda env:base] *",
   "language": "python",
   "name": "conda-base-py"
  },
  "language_info": {
   "codemirror_mode": {
    "name": "ipython",
    "version": 3
   },
   "file_extension": ".py",
   "mimetype": "text/x-python",
   "name": "python",
   "nbconvert_exporter": "python",
   "pygments_lexer": "ipython3",
   "version": "3.12.7"
  }
 },
 "nbformat": 4,
 "nbformat_minor": 5
}
