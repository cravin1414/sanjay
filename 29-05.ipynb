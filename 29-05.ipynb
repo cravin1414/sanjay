{
 "cells": [
  {
   "cell_type": "code",
   "execution_count": 13,
   "id": "68399246-ab83-471c-8a78-1bda965de0da",
   "metadata": {},
   "outputs": [
    {
     "name": "stdin",
     "output_type": "stream",
     "text": [
      "enter name: cravin\n",
      "enter age: 21\n",
      "basic_pay(20000/15000): 15000\n"
     ]
    },
    {
     "name": "stdout",
     "output_type": "stream",
     "text": [
      "_____employee details_____\n",
      "DA= 6900.0\n",
      "HRA= 1800.0\n",
      "PF= 2250.0\n",
      "TAX= 1800.0\n",
      "Gross pay= 23700.0\n",
      "deduction= 4050.0\n",
      "Net pay= 19650.0\n"
     ]
    }
   ],
   "source": [
    "###Assignment problems\n",
    "\n",
    "emp_name=input(\"enter name:\")\n",
    "emp_age=int(input(\"enter age:\"))\n",
    "basic_pay=int(input(\"basic_pay(20000/15000):\"))\n",
    "if basic_pay>=20000:\n",
    "        DA=0.585*basic_pay\n",
    "        HRA=0.15*basic_pay\n",
    "        PF=0.20*basic_pay\n",
    "        TAX=0.17*basic_pay\n",
    "elif basic_pay>=15000:\n",
    "        DA=0.46*basic_pay\n",
    "        HRA=0.12*basic_pay\n",
    "        PF=0.15*basic_pay\n",
    "        TAX=0.12*basic_pay\n",
    "else:\n",
    "        DA=0.425*basic_pay\n",
    "        HRA=1500*basic_pay\n",
    "        PF=0.10*basic_pay\n",
    "        TAX=0*basic_pay\n",
    "print(\"_____employee details_____\")\n",
    "print(\"DA=\",DA)\n",
    "print(\"HRA=\",HRA)\n",
    "print(\"PF=\",PF)\n",
    "print(\"TAX=\",TAX)\n",
    "\n",
    "Gross_pay = basic_pay + DA + HRA\n",
    "print(\"Gross pay=\",Gross_pay)\n",
    "deduction = PF + TAX\n",
    "print(\"deduction=\",deduction)\n",
    "Net_pay = Gross_pay-deduction \n",
    "print(\"Net pay=\",Net_pay)\n",
    "        \n",
    "        \n",
    "        "
   ]
  },
  {
   "cell_type": "code",
   "execution_count": 19,
   "id": "b5cee4b7-be1d-433f-aef9-a7fc7e60ce7f",
   "metadata": {},
   "outputs": [
    {
     "name": "stdin",
     "output_type": "stream",
     "text": [
      "enter shape(cube,cuboid,sphere): cube\n",
      "enter value: 90\n"
     ]
    },
    {
     "name": "stdout",
     "output_type": "stream",
     "text": [
      "729000\n"
     ]
    }
   ],
   "source": [
    "##Assignment 2\n",
    "import math\n",
    "shape=input(\"enter shape(cube,cuboid,sphere):\")\n",
    "if shape==\"cube\":\n",
    "    value=int(input(\"enter value:\"))\n",
    "    print(value**3)\n",
    "elif shape==\"sphere\":\n",
    "    value=int(input(\"enter value:\"))\n",
    "    print(value*4/3)\n",
    "elif shape==\"cuboid\":\n",
    "    h=int(input(\"height:\"))\n",
    "    l=int(input(\"length:\"))\n",
    "    w=int(input(\"width:\"))\n",
    "    volume=h*l*w\n",
    "    print(volume)\n",
    "else:\n",
    "    print(\"no shape found\")\n",
    "    \n",
    "    \n",
    "    \n",
    "    "
   ]
  },
  {
   "cell_type": "code",
   "execution_count": 1,
   "id": "4f2ee1ec-1a9a-4cb4-ac66-c1595ca05245",
   "metadata": {},
   "outputs": [
    {
     "name": "stdout",
     "output_type": "stream",
     "text": [
      "5\n",
      "4\n",
      "3\n",
      "2\n",
      "1\n",
      "0\n"
     ]
    }
   ],
   "source": [
    "def sub(n):\n",
    "    if(n==0):\n",
    "        return 0 ##base case\n",
    "    print(n)\n",
    "    return sub(n-1)##recursive case\n",
    "print(sub(5))"
   ]
  },
  {
   "cell_type": "code",
   "execution_count": 23,
   "id": "29b60262-c54a-44e8-8e3e-3aa9108e2572",
   "metadata": {},
   "outputs": [
    {
     "name": "stdout",
     "output_type": "stream",
     "text": [
      "1\n",
      "2\n",
      "3\n",
      "4\n",
      "5\n",
      "6\n",
      "7\n",
      "8\n",
      "9\n",
      "10\n",
      "11\n",
      "12\n",
      "13\n",
      "14\n",
      "15\n",
      "16\n",
      "17\n",
      "18\n",
      "19\n",
      "20\n",
      "21\n",
      "22\n",
      "23\n",
      "24\n",
      "25\n",
      "26\n",
      "27\n",
      "28\n",
      "29\n",
      "30\n",
      "31\n",
      "32\n",
      "33\n",
      "34\n",
      "35\n",
      "36\n",
      "37\n",
      "38\n",
      "39\n",
      "40\n",
      "41\n",
      "42\n",
      "43\n",
      "44\n",
      "45\n",
      "46\n",
      "47\n",
      "48\n",
      "49\n",
      "50\n",
      "51\n",
      "52\n",
      "53\n",
      "54\n",
      "55\n",
      "56\n",
      "57\n",
      "58\n",
      "59\n",
      "60\n",
      "61\n",
      "62\n",
      "63\n",
      "64\n",
      "65\n",
      "66\n",
      "67\n",
      "68\n",
      "69\n",
      "70\n",
      "71\n",
      "72\n",
      "73\n",
      "74\n",
      "75\n",
      "76\n",
      "77\n",
      "78\n",
      "79\n",
      "80\n",
      "81\n",
      "82\n",
      "83\n",
      "84\n",
      "85\n",
      "86\n",
      "87\n",
      "88\n",
      "89\n",
      "90\n",
      "91\n",
      "92\n",
      "93\n",
      "94\n",
      "95\n",
      "96\n",
      "97\n",
      "98\n",
      "99\n"
     ]
    }
   ],
   "source": [
    "##Assignment 3\n",
    "def bill(n):\n",
    "    if(n==100):\n",
    "        return 100\n",
    "    print(n)\n",
    "    return bill(n+1)\n",
    "value=bill(1)\n"
   ]
  },
  {
   "cell_type": "code",
   "execution_count": 40,
   "id": "69b4c924-2723-44c4-8a4e-cf85e177c989",
   "metadata": {},
   "outputs": [
    {
     "name": "stdin",
     "output_type": "stream",
     "text": [
      "enter the name: rahul\n",
      "enter the age(1,100): gh\n"
     ]
    },
    {
     "name": "stdout",
     "output_type": "stream",
     "text": [
      "ValueError invalid literal for int() with base 10: 'gh'\n",
      "updated\n"
     ]
    }
   ],
   "source": [
    "##Assignment 4\n",
    "def person():\n",
    "    try:\n",
    "        per_name=input(\"enter the name:\")\n",
    "        per_age=int(input(\"enter the age(1,100):\"))\n",
    "        if per_age>50:\n",
    "            print(\"living\")\n",
    "        else:\n",
    "            print(\"not allowed\")\n",
    "    except ValueError as e:\n",
    "        print(\"ValueError\",e)\n",
    "    except Exception as e:\n",
    "        print(\"Exception\",e)\n",
    "    finally:\n",
    "        print(\"updated\")\n",
    "person()\n",
    "    "
   ]
  },
  {
   "cell_type": "code",
   "execution_count": 73,
   "id": "4715a518-a159-4579-99ac-99439f976b60",
   "metadata": {},
   "outputs": [
    {
     "name": "stdin",
     "output_type": "stream",
     "text": [
      "team_name: cgvak\n",
      "role_name(testing/developer): developer\n",
      "no of persons: 90\n"
     ]
    },
    {
     "name": "stdout",
     "output_type": "stream",
     "text": [
      "allowed\n",
      "updated\n"
     ]
    }
   ],
   "source": [
    "##Assignment 5\n",
    "def person():\n",
    "    try:\n",
    "        per_name=str(input(\"team_name:\"))\n",
    "        per_role=input(\"role_name(testing/developer):\")\n",
    "        per_persons=int(input(\"no of persons:\"))\n",
    "        if per_persons >=10:\n",
    "            print(\"allowed\")\n",
    "        else:\n",
    "            print(\"already assigned\")      \n",
    "    except ValueError as e:\n",
    "        print(\"ValueError\",e)\n",
    "    except Exception as e:\n",
    "        print(\"Exception\",e)\n",
    "    finally:\n",
    "        print(\"updated\")\n",
    "person()\n",
    "    "
   ]
  },
  {
   "cell_type": "code",
   "execution_count": 75,
   "id": "e6c36141-646f-4888-a5f9-288012ffe890",
   "metadata": {},
   "outputs": [
    {
     "name": "stdin",
     "output_type": "stream",
     "text": [
      "enter number: 9\n",
      "enter number: 0\n",
      "operations(add/sub/multi/div): div\n"
     ]
    },
    {
     "name": "stdout",
     "output_type": "stream",
     "text": [
      "ZeroDivisionError division by zero\n",
      "sucessfully\n"
     ]
    }
   ],
   "source": [
    "##Assignment 6\n",
    "try:\n",
    "    a=int(input(\"enter number:\"))\n",
    "    b=int(input(\"enter number:\"))\n",
    "    operations=input(\"operations(add/sub/multi/div):\")\n",
    "    if operations==\"add\":\n",
    "        print(a+b)\n",
    "    elif operations==\"sub\":\n",
    "        print(a-b)\n",
    "    elif operations==\"mutli\":\n",
    "        print(a*b)\n",
    "    elif operations==\"div\":\n",
    "        print(a/b)\n",
    "    else:\n",
    "        print(\"invalid number\")\n",
    "except ZeroDivisionError as e:\n",
    "    print(\"ZeroDivisionError\",e)\n",
    "except Exception as e:\n",
    "    print(\"Exception\",e)\n",
    "finally:\n",
    "    print(\"sucessfully\")\n",
    "    \n",
    "    \n",
    "    "
   ]
  },
  {
   "cell_type": "code",
   "execution_count": 82,
   "id": "2a71d3d3-d08b-418c-bed0-ec220a4582b8",
   "metadata": {},
   "outputs": [],
   "source": [
    "##Assignment 7\n",
    "import os\n",
    "os.getcwd()\n",
    "os.chdir(\"D:/python\")\n",
    "os.listdir()\n",
    "os.makedirs('story book/my_story_book')\n",
    "\n"
   ]
  },
  {
   "cell_type": "code",
   "execution_count": 88,
   "id": "c324a13a-0a76-4951-b52d-579707a785e0",
   "metadata": {},
   "outputs": [],
   "source": [
    "##Assignment 8\n",
    "import os\n",
    "os.getcwd()\n",
    "os.listdir()\n",
    "os.makedirs('countries/my_capitals')"
   ]
  },
  {
   "cell_type": "code",
   "execution_count": 94,
   "id": "48db626c-4729-4c4f-81dc-aa1e3bce6d61",
   "metadata": {},
   "outputs": [
    {
     "ename": "NameError",
     "evalue": "name 'cravin' is not defined",
     "output_type": "error",
     "traceback": [
      "\u001b[1;31m---------------------------------------------------------------------------\u001b[0m",
      "\u001b[1;31mNameError\u001b[0m                                 Traceback (most recent call last)",
      "Cell \u001b[1;32mIn[94], line 1\u001b[0m\n\u001b[1;32m----> 1\u001b[0m f\u001b[38;5;241m=\u001b[39m\u001b[38;5;28mopen\u001b[39m(cravin\u001b[38;5;241m.\u001b[39mtxt,\u001b[38;5;124m\"\u001b[39m\u001b[38;5;124mr\u001b[39m\u001b[38;5;124m\"\u001b[39m)\n\u001b[0;32m      2\u001b[0m call\u001b[38;5;241m=\u001b[39mf\u001b[38;5;241m.\u001b[39mread()\n\u001b[0;32m      3\u001b[0m \u001b[38;5;28mprint\u001b[39m(call)\n",
      "\u001b[1;31mNameError\u001b[0m: name 'cravin' is not defined"
     ]
    }
   ],
   "source": [
    "f=open(cravin.txt)\n",
    "call=f.read()\n",
    "print(call)"
   ]
  },
  {
   "cell_type": "code",
   "execution_count": null,
   "id": "09818cf9-af32-4f7e-b8f1-c94dddc23386",
   "metadata": {},
   "outputs": [],
   "source": [
    "with open(\"OpenDocument Text.odt\", \"r\") as file:\n",
    "    content = file.read()\n",
    "\n",
    "print(\"File Content:\")\n",
    "print(content)"
   ]
  }
 ],
 "metadata": {
  "kernelspec": {
   "display_name": "Python [conda env:base] *",
   "language": "python",
   "name": "conda-base-py"
  },
  "language_info": {
   "codemirror_mode": {
    "name": "ipython",
    "version": 3
   },
   "file_extension": ".py",
   "mimetype": "text/x-python",
   "name": "python",
   "nbconvert_exporter": "python",
   "pygments_lexer": "ipython3",
   "version": "3.12.7"
  }
 },
 "nbformat": 4,
 "nbformat_minor": 5
}
