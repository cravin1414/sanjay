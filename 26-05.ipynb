{
 "cells": [
  {
   "cell_type": "code",
   "execution_count": 10,
   "id": "6cffbd06-1d9b-4372-b307-362bd215e9f2",
   "metadata": {},
   "outputs": [
    {
     "name": "stdin",
     "output_type": "stream",
     "text": [
      "enter the employee code: 6789\n",
      "enter the employye name: CRAVIN\n",
      "enter the dep: CGVAK\n",
      "enter the basic pay: 15000\n"
     ]
    },
    {
     "name": "stdout",
     "output_type": "stream",
     "text": [
      "___Employee Salary Details___\n",
      "da= 6900.0\n",
      "hra= 1800.0\n",
      "pf= 2250.0\n",
      "tax= 1800.0\n",
      "gp= 23700.0\n",
      "dd= 4050.0\n",
      "np= 19650.0\n"
     ]
    }
   ],
   "source": [
    "##assignment questions\n",
    "## employee details\n",
    "emp_code=input(\"enter the employee code:\")\n",
    "emp_name=input(\"enter the employye name:\")\n",
    "department=input(\"enter the dep:\")\n",
    "basic_pay=float(input(\"enter the basic pay:\"))\n",
    "if basic_pay > 20000:\n",
    "    da=0.585*basic_pay\n",
    "    hra=0.15*basic_pay\n",
    "    pf=0.20*basic_pay\n",
    "    tax=0.17*basic_pay\n",
    "elif basic_pay >=15000:\n",
    "    da=0.46*basic_pay\n",
    "    hra=0.12*basic_pay\n",
    "    pf=0.15*basic_pay\n",
    "    tax=0.12*basic_pay\n",
    "else:\n",
    "    da=0.425*basic_pay\n",
    "    hra=1500\n",
    "    pf=0.10*basic_pay\n",
    "    tax=0*basic_pay\n",
    "print(\"___Employee Salary Details___\")    \n",
    "print(\"da=\",da)\n",
    "print(\"hra=\",hra)\n",
    "print(\"pf=\",pf)\n",
    "print(\"tax=\",tax)\n",
    "grosspay=basic_pay+da+hra\n",
    "print(\"gp=\",grosspay)\n",
    "deduction=pf+tax\n",
    "print(\"dd=\",deduction)\n",
    "netpay=grosspay-deduction\n",
    "print(\"np=\",netpay)\n",
    "\n",
    "    \n",
    "\n"
   ]
  },
  {
   "cell_type": "code",
   "execution_count": 22,
   "id": "12a7dbcd-caf7-446f-acc1-b965e3f15781",
   "metadata": {},
   "outputs": [
    {
     "name": "stdin",
     "output_type": "stream",
     "text": [
      "enter the name: cravin\n",
      "enter the  previous reading: 200\n",
      "enter the current reading: 500\n",
      "enter the type(domestic/commercial): commercial\n"
     ]
    },
    {
     "name": "stdout",
     "output_type": "stream",
     "text": [
      "UNIT_CONSUMED: 300\n",
      "charge: 1335.0\n"
     ]
    }
   ],
   "source": [
    "##ASSIGNMENT 2\n",
    "##GENERATE ELECTRICITY BILLS\n",
    "cons_name=input(\"enter the name:\")\n",
    "previous_reading=int(input(\"enter the  previous reading:\"))\n",
    "current_reading=int(input(\"enter the current reading:\"))\n",
    "connection_type=input(\"enter the type(domestic/commercial):\")\n",
    "UNIT_CONSUMED =(current_reading-previous_reading)\n",
    "print(\"UNIT_CONSUMED:\",UNIT_CONSUMED)\n",
    "if connection_type==\"domestic\":\n",
    "    if UNIT_CONSUMED <100:\n",
    "        print(\"no charges\")\n",
    "    elif UNIT_CONSUMED >100 and UNIT_CONSUMED <=200:\n",
    "        print(\"charge:\",UNIT_CONSUMED*2.25)\n",
    "    elif UNIT_CONSUMED >200 and UNIT_CONSUMED<=500:\n",
    "        print(\"charges:\",UNIT_CONSUMED*4.45)\n",
    "    else:\n",
    "        print(\"charges:\",UNIT_CONSUMED*6)\n",
    "elif connection_type==\"commercial\":\n",
    "    if UNIT_CONSUMED <100:\n",
    "        print(\"no charges\")\n",
    "    elif UNIT_CONSUMED >101 and UNIT_CONSUMED <=400:\n",
    "        print(\"charge:\",UNIT_CONSUMED*4.45)\n",
    "    elif UNIT_CONSUMED >401 and UNIT_CONSUMED<=700:\n",
    "        print(\"charges:\",UNIT_CONSUMED*6)\n",
    "    elif UNIT_CONSUMED >701 and UNIT_CONSUMED<=1000:\n",
    "        print(\"charges:\",UNIT_CONSUMED*9)\n",
    "    else:\n",
    "        print(\"charges:\",UNIT_CONSUMED*10)\n",
    "    \n"
   ]
  },
  {
   "cell_type": "code",
   "execution_count": 39,
   "id": "ff3cb649-84f8-49bf-9ab8-7d84bdb858fa",
   "metadata": {},
   "outputs": [
    {
     "name": "stdin",
     "output_type": "stream",
     "text": [
      "enter the number: 5\n",
      "enter the number: 8\n",
      "enter the number: 13\n"
     ]
    },
    {
     "name": "stdout",
     "output_type": "stream",
     "text": [
      "scaline angle\n"
     ]
    }
   ],
   "source": [
    "##Assignment problem 3\n",
    "a=int(input(\"enter the number:\"))\n",
    "b=int(input(\"enter the number:\"))\n",
    "c=int(input(\"enter the number:\"))\n",
    "if a==b==c:\n",
    "    print(\"equilateral triangle\")\n",
    "elif a==b or b==c or c==a:\n",
    "    print(\"isosceles triangle\")\n",
    "elif a*a+b*b==c*c or b*b+c*c==a*a or c*c+a*a==b*b:\n",
    "    print(\"right angle\")\n",
    "else:\n",
    "    print(\"scaline angle\")\n"
   ]
  },
  {
   "cell_type": "code",
   "execution_count": 56,
   "id": "cf7f5c40-ae46-4431-9c92-6d291d1c9d15",
   "metadata": {},
   "outputs": [
    {
     "name": "stdout",
     "output_type": "stream",
     "text": [
      "101\n",
      "103\n",
      "107\n",
      "109\n",
      "113\n",
      "127\n",
      "131\n",
      "137\n",
      "139\n",
      "149\n",
      "151\n",
      "157\n",
      "163\n",
      "167\n",
      "173\n",
      "179\n",
      "181\n",
      "191\n",
      "193\n",
      "197\n",
      "199\n"
     ]
    }
   ],
   "source": [
    "##Assignment problem 4\n",
    "for num in range(100,201):\n",
    "    for i in range(2,num):\n",
    "        if num % i==0:\n",
    "            break\n",
    "    else:            \n",
    "        print(num)\n"
   ]
  },
  {
   "cell_type": "code",
   "execution_count": 62,
   "id": "86a4e4d8-4026-489b-8a6e-ecd3fd7ee6a4",
   "metadata": {},
   "outputs": [
    {
     "name": "stdin",
     "output_type": "stream",
     "text": [
      "company name: cgvak\n",
      "enter the role: python developer\n",
      "enter the code: 210\n"
     ]
    },
    {
     "name": "stdout",
     "output_type": "stream",
     "text": [
      "employee is working.position in emp_code: 2\n"
     ]
    }
   ],
   "source": [
    "##Arrays \n",
    "##Assignment 5\n",
    "company=input(\"company name:\")\n",
    "emp_role=input(\"enter the role:\")\n",
    "emp_id = [108,110,210,224,567,894,678]\n",
    "emp_code=int(input(\"enter the code:\"))\n",
    "\n",
    "if emp_code in emp_id:\n",
    "    position=emp_id.index(emp_code)\n",
    "    print(\"employee is working.position in emp_code:\",position)\n",
    "else:\n",
    "    print(\"employee is not working .The employee maybe left\")\n",
    "\n"
   ]
  },
  {
   "cell_type": "code",
   "execution_count": 73,
   "id": "bd7fe07e-562b-4ff7-a62a-00f550fd642f",
   "metadata": {},
   "outputs": [
    {
     "name": "stdout",
     "output_type": "stream",
     "text": [
      "Heights in ascending order in meters:\n",
      "1.4\n",
      "1.45\n",
      "1.48\n",
      "1.5\n",
      "1.55\n",
      "1.58\n",
      "1.6\n",
      "1.65\n",
      "1.7\n",
      "1.75\n",
      "Shortest height in meters: 1.4\n",
      "Tallest height in meters: 1.75\n"
     ]
    }
   ],
   "source": [
    "##Assignment 6\n",
    "heights_cm = [150, 145, 160, 155, 170, 140, 165, 175, 148, 158]\n",
    "heights_m = []\n",
    "for h in heights_cm:\n",
    "    meter=h/100\n",
    "    heights_m.append(meter)\n",
    "heights_m.sort()\n",
    "print(\"Heights in ascending order in meters:\")\n",
    "for h in heights_m:\n",
    "    print(h)\n",
    "print(\"Shortest height in meters:\", heights_m[0])\n",
    "print(\"Tallest height in meters:\", heights_m[-1])\n"
   ]
  },
  {
   "cell_type": "code",
   "execution_count": null,
   "id": "670d4f4d-6f55-43ee-8343-639acc2727f3",
   "metadata": {},
   "outputs": [],
   "source": [
    "\n",
    "\n"
   ]
  }
 ],
 "metadata": {
  "kernelspec": {
   "display_name": "Python [conda env:base] *",
   "language": "python",
   "name": "conda-base-py"
  },
  "language_info": {
   "codemirror_mode": {
    "name": "ipython",
    "version": 3
   },
   "file_extension": ".py",
   "mimetype": "text/x-python",
   "name": "python",
   "nbconvert_exporter": "python",
   "pygments_lexer": "ipython3",
   "version": "3.12.7"
  }
 },
 "nbformat": 4,
 "nbformat_minor": 5
}
