{
 "cells": [
  {
   "cell_type": "code",
   "execution_count": 2,
   "id": "4f63637e-25e5-4d00-b8d3-1a4c57779bf4",
   "metadata": {},
   "outputs": [
    {
     "name": "stdin",
     "output_type": "stream",
     "text": [
      "2: 44\n",
      "3: 66\n"
     ]
    },
    {
     "name": "stdout",
     "output_type": "stream",
     "text": [
      "110\n"
     ]
    }
   ],
   "source": [
    "a=int(input(\"2:\"))\n",
    "b=int(input(\"3:\"))\n",
    "c=(a+b)\n",
    "print(c)\n"
   ]
  },
  {
   "cell_type": "code",
   "execution_count": 3,
   "id": "acbb9f49-1c73-4459-9cb0-302d013c3110",
   "metadata": {},
   "outputs": [
    {
     "name": "stdin",
     "output_type": "stream",
     "text": [
      " 3.3\n",
      " 4.3\n"
     ]
    },
    {
     "name": "stdout",
     "output_type": "stream",
     "text": [
      "7.6\n"
     ]
    }
   ],
   "source": [
    "a=float(input())\n",
    "b=float(input())\n",
    "c=(a+b)\n",
    "print(c)\n"
   ]
  },
  {
   "cell_type": "code",
   "execution_count": 4,
   "id": "52403d70-f095-4f3b-922f-54a07f808f56",
   "metadata": {},
   "outputs": [
    {
     "name": "stdin",
     "output_type": "stream",
     "text": [
      " \"cravin\"\n",
      " \"sanjay\"\n"
     ]
    },
    {
     "name": "stdout",
     "output_type": "stream",
     "text": [
      "\"sanjay\"\n"
     ]
    }
   ],
   "source": [
    "a=str(input())\n",
    "b=str(input())\n",
    "print(b)\n"
   ]
  },
  {
   "cell_type": "code",
   "execution_count": 8,
   "id": "cdbe823e-c721-411e-aee6-7dca8aba9f75",
   "metadata": {},
   "outputs": [
    {
     "name": "stdin",
     "output_type": "stream",
     "text": [
      " 0\n",
      " 1\n"
     ]
    },
    {
     "name": "stdout",
     "output_type": "stream",
     "text": [
      "False\n"
     ]
    }
   ],
   "source": [
    "a=float(input())\n",
    "b=int(input())\n",
    "print(bool(a))\n",
    "\n"
   ]
  },
  {
   "cell_type": "code",
   "execution_count": 27,
   "id": "15a00f88-9cc7-4e92-853c-01e159dfc6ac",
   "metadata": {},
   "outputs": [
    {
     "name": "stdin",
     "output_type": "stream",
     "text": [
      "enter the name: cravin\n",
      "enter the age: 26\n",
      "enter the fees: 30000\n"
     ]
    },
    {
     "name": "stdout",
     "output_type": "stream",
     "text": [
      "u are eligible\n",
      "accepted\n"
     ]
    }
   ],
   "source": [
    "name=input(\"enter the name:\")\n",
    "age=int(input(\"enter the age:\"))\n",
    "fees=int(input(\"enter the fees:\"))\n",
    "if age > 20 or fees > 20000:\n",
    "    print(\"u are eligible\")\n",
    "if fees > 25000:\n",
    "    print(\"accepted\")\n",
    "else:\n",
    "\n",
    "    print(\"u are not eligible\")\n",
    "        "
   ]
  },
  {
   "cell_type": "raw",
   "id": "fde82024-a3f5-4f76-aff1-ba6497849048",
   "metadata": {},
   "source": [
    "score=int(input(\"mark/10\"))\n",
    "course=input(\"enter the course name:\")\n",
    "if score > 5:\n",
    "    print(\"enter the name:\")\n",
    "else:\n",
    "    print(\"u are not eligible\")\n"
   ]
  },
  {
   "cell_type": "code",
   "execution_count": 30,
   "id": "e1d1dc3d-a88b-45db-8c91-ee9fbc844fc4",
   "metadata": {},
   "outputs": [
    {
     "name": "stdin",
     "output_type": "stream",
     "text": [
      "mark/10 90\n"
     ]
    },
    {
     "name": "stdout",
     "output_type": "stream",
     "text": [
      "enter the name:\n",
      "enter the course name:\n"
     ]
    }
   ],
   "source": [
    "score=int(input(\"mark/10\"))\n",
    "if score > 5:\n",
    "    print(\"enter the name:\")\n",
    "    print(\"enter the course name:\")\n",
    "else:\n",
    "    print(\"u are not eligible\")\n"
   ]
  },
  {
   "cell_type": "code",
   "execution_count": 33,
   "id": "664917df-44e1-4d20-967d-c8935c5ff772",
   "metadata": {},
   "outputs": [
    {
     "name": "stdout",
     "output_type": "stream",
     "text": [
      "[5, 6, 7, 8, 9]\n",
      "[5, 6, 7, 9]\n",
      "[]\n"
     ]
    }
   ],
   "source": [
    "a=[5,6,7,8]\n",
    "a.append(9)\n",
    "print(a)\n",
    "a.remove(8)\n",
    "print(a)\n",
    "a.clear()\n",
    "print(a)"
   ]
  },
  {
   "cell_type": "code",
   "execution_count": 10,
   "id": "fd648707-92d2-4ee4-9d6a-0397cf441d3b",
   "metadata": {},
   "outputs": [
    {
     "name": "stdout",
     "output_type": "stream",
     "text": [
      "addition: 50\n",
      "subtraction: -10\n",
      "multiplication: 600\n",
      "division: 0.6666666666666666\n",
      "True\n",
      "False\n",
      "False\n",
      "True\n",
      "True\n",
      "30\n",
      "20\n",
      "False\n"
     ]
    }
   ],
   "source": [
    "a=20\n",
    "b=30\n",
    "print(\"addition:\",a+b)\n",
    "print(\"subtraction:\",a-b)\n",
    "print(\"multiplication:\",a*b)\n",
    "print(\"division:\",a/b)\n",
    "print(a<b)\n",
    "print(a>b)\n",
    "print(a==b)\n",
    "print(a<=b)\n",
    "print(a<=b)\n",
    "print(a and b)\n",
    "print(a or b)\n",
    "print(not a)\n"
   ]
  },
  {
   "cell_type": "code",
   "execution_count": 13,
   "id": "d114d385-3ccd-46da-9125-356d3cb25661",
   "metadata": {},
   "outputs": [
    {
     "name": "stdout",
     "output_type": "stream",
     "text": [
      "<class 'int'>\n",
      "<class 'float'>\n",
      "61.07\n",
      "<class 'float'>\n",
      "333.85\n",
      "<class 'float'>\n",
      "<class 'str'>\n",
      "<class 'str'>\n"
     ]
    }
   ],
   "source": [
    "a=55\n",
    "print(type(a))\n",
    "b=6.07\n",
    "print(type(b))\n",
    "c=a+b\n",
    "print(c)\n",
    "print(type(c))\n",
    "d=a*b\n",
    "print(d)\n",
    "print(type(d))\n",
    "e=\"cravin\"\n",
    "print(type(e))\n",
    "f=\"rahul\"\n",
    "print(type(f+e))\n",
    "        \n"
   ]
  },
  {
   "cell_type": "code",
   "execution_count": 15,
   "id": "e7d7595b-b128-4da2-99e3-7dfff33237f9",
   "metadata": {},
   "outputs": [
    {
     "name": "stdout",
     "output_type": "stream",
     "text": [
      "1\n",
      "2\n",
      "3\n"
     ]
    }
   ],
   "source": [
    "x = int(1.2)\n",
    "y = int(2.8)\n",
    "z = int(\"3\")\n",
    "print(x)\n",
    "print(y)\n",
    "print(z)\n"
   ]
  },
  {
   "cell_type": "code",
   "execution_count": 16,
   "id": "6fe5bc53-2bf8-4621-af60-c3b49985a030",
   "metadata": {},
   "outputs": [
    {
     "name": "stdout",
     "output_type": "stream",
     "text": [
      "2.0\n",
      "3.0\n",
      "4.8\n"
     ]
    }
   ],
   "source": [
    "x = float(2)\n",
    "y = float(3)\n",
    "z = float(\"4.8\")\n",
    "print(x)\n",
    "print(y)\n",
    "print(z)\n",
    "\n"
   ]
  },
  {
   "cell_type": "code",
   "execution_count": 40,
   "id": "7a4db926-719e-4bf7-b03a-886be3fd13b4",
   "metadata": {},
   "outputs": [
    {
     "name": "stdin",
     "output_type": "stream",
     "text": [
      " 19\n"
     ]
    },
    {
     "name": "stdout",
     "output_type": "stream",
     "text": [
      "This is not prime number\n"
     ]
    }
   ],
   "source": [
    "a=int(input())\n",
    "if a%5==0 or  a%3==0:\n",
    "    print(\"This is prime number\")\n",
    "else:\n",
    "    print(\"This is not prime number\")"
   ]
  },
  {
   "cell_type": "code",
   "execution_count": 46,
   "id": "9323e11d-1b49-4918-a682-fd916ccc9159",
   "metadata": {},
   "outputs": [
    {
     "name": "stdout",
     "output_type": "stream",
     "text": [
      "rahul unnirahul unni\n"
     ]
    }
   ],
   "source": [
    "a=(\"rahul\")\n",
    "b=(\"unni\")\n",
    "c=a+\" \"+b\n",
    "print(c*2)"
   ]
  },
  {
   "cell_type": "code",
   "execution_count": 51,
   "id": "d29d1db9-c05b-4494-a291-e87df2783399",
   "metadata": {},
   "outputs": [
    {
     "name": "stdout",
     "output_type": "stream",
     "text": [
      "cravin g v\n"
     ]
    }
   ],
   "source": [
    "a=str(\"cravin\")\n",
    "b=str(\"g v\")\n",
    "c=a+\" \"+b\n",
    "print(c)"
   ]
  },
  {
   "cell_type": "code",
   "execution_count": null,
   "id": "deacbbfd-256e-45a4-b680-0e58321d7682",
   "metadata": {},
   "outputs": [],
   "source": []
  }
 ],
 "metadata": {
  "kernelspec": {
   "display_name": "Python [conda env:base] *",
   "language": "python",
   "name": "conda-base-py"
  },
  "language_info": {
   "codemirror_mode": {
    "name": "ipython",
    "version": 3
   },
   "file_extension": ".py",
   "mimetype": "text/x-python",
   "name": "python",
   "nbconvert_exporter": "python",
   "pygments_lexer": "ipython3",
   "version": "3.12.7"
  }
 },
 "nbformat": 4,
 "nbformat_minor": 5
}
