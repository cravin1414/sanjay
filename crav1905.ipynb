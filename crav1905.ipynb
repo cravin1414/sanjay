{
 "cells": [
  {
   "cell_type": "code",
   "execution_count": 33,
   "id": "aa44e309-fc1c-4b38-83e3-abcd4676d9c0",
   "metadata": {},
   "outputs": [
    {
     "name": "stdin",
     "output_type": "stream",
     "text": [
      "enter the num : 8\n",
      "enter the num : 2\n"
     ]
    },
    {
     "name": "stdout",
     "output_type": "stream",
     "text": [
      "4.0\n"
     ]
    }
   ],
   "source": [
    "### defining function\n",
    "def div():\n",
    "     a=int(input(\"enter the num :\"))\n",
    "     b=int(input(\"enter the num :\"))\n",
    "     return a/b\n",
    "print(div())\n",
    "\n"
   ]
  },
  {
   "cell_type": "code",
   "execution_count": 41,
   "id": "86aadcf2-147e-4d8d-9f69-8717eac26ecc",
   "metadata": {},
   "outputs": [
    {
     "name": "stdin",
     "output_type": "stream",
     "text": [
      "enter the value: 5\n",
      "enter the value: 41\n"
     ]
    },
    {
     "name": "stdout",
     "output_type": "stream",
     "text": [
      "205\n"
     ]
    }
   ],
   "source": [
    "def multi(a,b):\n",
    "    return(a*b)\n",
    "a=int(input(\"enter the value:\"))\n",
    "b=int(input(\"enter the value:\"))\n",
    "print(multi(a,b))"
   ]
  },
  {
   "cell_type": "code",
   "execution_count": 44,
   "id": "008079e8-99ff-40f5-bd71-7ad547d11f4f",
   "metadata": {},
   "outputs": [
    {
     "name": "stdout",
     "output_type": "stream",
     "text": [
      "46\n"
     ]
    },
    {
     "name": "stdin",
     "output_type": "stream",
     "text": [
      "enter the num: 8\n",
      "enter the num: 9\n"
     ]
    },
    {
     "name": "stdout",
     "output_type": "stream",
     "text": [
      "None\n"
     ]
    }
   ],
   "source": [
    "def add(a,b):\n",
    "    a=int(input(\"enter the num:\"))\n",
    "    b=int(input(\"enter the num:\"))\n",
    "print(a+b)\n",
    "print(add(a,b))\n",
    "    \n"
   ]
  },
  {
   "cell_type": "code",
   "execution_count": 49,
   "id": "bc5bed47-c845-4649-8269-1db329ad6c5c",
   "metadata": {},
   "outputs": [
    {
     "name": "stdin",
     "output_type": "stream",
     "text": [
      "enter the number: 7\n",
      "enter the number: 9\n"
     ]
    },
    {
     "name": "stdout",
     "output_type": "stream",
     "text": [
      "16\n"
     ]
    }
   ],
   "source": [
    "def add(a,b):\n",
    "    return(a+b)\n",
    "a=int(input(\"enter the number:\"))\n",
    "b=int(input(\"enter the number:\"))\n",
    "print(add(a,b))"
   ]
  },
  {
   "cell_type": "code",
   "execution_count": 66,
   "id": "cc8a2269-f319-439b-88a7-f34465d0b611",
   "metadata": {},
   "outputs": [
    {
     "name": "stdin",
     "output_type": "stream",
     "text": [
      "no: 5\n"
     ]
    },
    {
     "name": "stdout",
     "output_type": "stream",
     "text": [
      "no values\n",
      "5\n",
      "None\n"
     ]
    }
   ],
   "source": [
    "def even():\n",
    "   num=int(input(\"no:\"))\n",
    "   if num%2==0:\n",
    "        print(\"even\")\n",
    "   elif num%3==0:\n",
    "        print(\"odd\")\n",
    "   else:\n",
    "        print(\"no values\")\n",
    "   return\n",
    "print(even())\n",
    "        \n",
    "        "
   ]
  },
  {
   "cell_type": "code",
   "execution_count": 43,
   "id": "764674f2-f4c1-43e2-8526-f270e558c4e9",
   "metadata": {},
   "outputs": [
    {
     "name": "stdin",
     "output_type": "stream",
     "text": [
      "Score:  89\n"
     ]
    },
    {
     "name": "stdout",
     "output_type": "stream",
     "text": [
      "Lose\n"
     ]
    },
    {
     "data": {
      "text/plain": [
       "'none'"
      ]
     },
     "execution_count": 43,
     "metadata": {},
     "output_type": "execute_result"
    }
   ],
   "source": [
    "def score():\n",
    "    runs = int(input(\"Score: \"))\n",
    "    if runs > 100:\n",
    "        print(\"Win\")\n",
    "    elif runs == 100:\n",
    "        print(\"Draw\")\n",
    "    else:\n",
    "        print(\"Lose\")\n",
    "        return(\"none\") \n",
    "score()\n",
    "\n",
    "\n",
    "\n",
    "\n",
    "\n",
    "    "
   ]
  },
  {
   "cell_type": "code",
   "execution_count": 61,
   "id": "d5a9ff7b-4298-437d-b871-9860da5a678b",
   "metadata": {},
   "outputs": [
    {
     "name": "stdout",
     "output_type": "stream",
     "text": [
      "cravin\n"
     ]
    }
   ],
   "source": [
    "def name(x,y):\n",
    "    return x\n",
    "words=name(\"cravin\",\"sanjai\")\n",
    "print(words)"
   ]
  },
  {
   "cell_type": "code",
   "execution_count": 70,
   "id": "40b691fa-75cd-4272-b4bb-d62b1abdd411",
   "metadata": {},
   "outputs": [
    {
     "name": "stdout",
     "output_type": "stream",
     "text": [
      "cravinsanjai\n",
      "None\n"
     ]
    }
   ],
   "source": [
    "##none statement\n",
    "def name():\n",
    "    print(\"cravinsanjai\")\n",
    "value=name()\n",
    "print(value)\n",
    "    "
   ]
  },
  {
   "cell_type": "code",
   "execution_count": 75,
   "id": "0a617020-a85b-45e6-bda2-45ad0e7b5bf4",
   "metadata": {},
   "outputs": [
    {
     "name": "stdout",
     "output_type": "stream",
     "text": [
      "10\n",
      "30\n"
     ]
    }
   ],
   "source": [
    "##*args example\n",
    "def fun(*args):\n",
    "    return sum(args)\n",
    "\n",
    "print(fun(1, 2, 3, 4)) \n",
    "print(fun(5, 10, 15))"
   ]
  },
  {
   "cell_type": "code",
   "execution_count": 76,
   "id": "bced6bfa-83b3-4041-813a-acbbf8543d75",
   "metadata": {},
   "outputs": [
    {
     "name": "stdout",
     "output_type": "stream",
     "text": [
      "a 1\n",
      "b 2\n",
      "c 3\n"
     ]
    }
   ],
   "source": [
    "##**kwargs example\n",
    "def fun(**kwargs):\n",
    "    for k,value in kwargs.items():\n",
    "        print(k,value)\n",
    "fun(a=1, b=2, c=3)"
   ]
  },
  {
   "cell_type": "code",
   "execution_count": 83,
   "id": "d45feb20-4fbe-4afb-bf9b-ecc1e70222a3",
   "metadata": {},
   "outputs": [
    {
     "name": "stdout",
     "output_type": "stream",
     "text": [
      "hello world\n"
     ]
    }
   ],
   "source": [
    "##func with no args and no return value\n",
    "def fun():\n",
    "    print(\"hello world\")\n",
    "fun()\n",
    "   \n",
    "    "
   ]
  },
  {
   "cell_type": "code",
   "execution_count": 101,
   "id": "bc0190e6-ab85-4e6f-baee-ccaf9e0e06d6",
   "metadata": {},
   "outputs": [
    {
     "name": "stdout",
     "output_type": "stream",
     "text": [
      "57\n",
      "None\n"
     ]
    }
   ],
   "source": [
    "##func with args and no return value\n",
    "def add(a,b,c):\n",
    "    print(a+b-c)\n",
    "print(add(55,67,65))"
   ]
  },
  {
   "cell_type": "code",
   "execution_count": 112,
   "id": "74c30178-c34a-4486-9e12-b148744d4307",
   "metadata": {},
   "outputs": [
    {
     "name": "stdin",
     "output_type": "stream",
     "text": [
      "enter the value: 89\n",
      "enter the value: 76\n"
     ]
    },
    {
     "name": "stdout",
     "output_type": "stream",
     "text": [
      "165\n"
     ]
    }
   ],
   "source": [
    "##func with return value and no args\n",
    "def add():\n",
    "    return(x+y)\n",
    "x=int(input(\"enter the value:\"))\n",
    "y=int(input(\"enter the value:\"))\n",
    "print(x+y)\n",
    "\n",
    "\n"
   ]
  },
  {
   "cell_type": "code",
   "execution_count": 120,
   "id": "faa3ad8a-c219-4417-b324-78df45c77012",
   "metadata": {},
   "outputs": [
    {
     "name": "stdout",
     "output_type": "stream",
     "text": [
      "cravinsanjay\n"
     ]
    }
   ],
   "source": [
    "##func with return value and args\n",
    "def name(x,y):\n",
    "    return x+y\n",
    "words=(name(\"cravin\",\"sanjay\"))\n",
    "print(words)\n"
   ]
  },
  {
   "cell_type": "code",
   "execution_count": 121,
   "id": "fe2a5f60-b3b5-44de-b7ba-b953e204f0fb",
   "metadata": {},
   "outputs": [
    {
     "name": "stdout",
     "output_type": "stream",
     "text": [
      "-1950\n"
     ]
    }
   ],
   "source": [
    "###lambda func\n",
    "x=lambda a,b,c,d:a+b-c*d\n",
    "print(x(20,30,40,50))\n"
   ]
  },
  {
   "cell_type": "code",
   "execution_count": 131,
   "id": "f1115eef-5914-43a5-b48e-3891d268f17d",
   "metadata": {},
   "outputs": [
    {
     "name": "stdout",
     "output_type": "stream",
     "text": [
      "cravinsanaji\n"
     ]
    }
   ],
   "source": [
    "def love():\n",
    "    love=lambda a,b:a+b\n",
    "    print(love(\"cravin\",\"sanaji\"))\n",
    "    return\n",
    "cravin=love()\n",
    "cravin"
   ]
  },
  {
   "cell_type": "code",
   "execution_count": 139,
   "id": "d8cdc3c4-3f65-4601-b4c9-7417fb316448",
   "metadata": {},
   "outputs": [
    {
     "name": "stdout",
     "output_type": "stream",
     "text": [
      "rahulnair\n",
      "<function sanjay at 0x000001A5D62DADE0>\n"
     ]
    }
   ],
   "source": [
    "def sanjay():\n",
    "    sanjay=lambda a,b:a+b\n",
    "    print(sanjay(\"rahul\",\"nair\"))\n",
    "    return\n",
    "name=sanjay()\n",
    "print(sanjay)"
   ]
  },
  {
   "cell_type": "code",
   "execution_count": 147,
   "id": "eab216c1-00c7-4b6e-9c0e-8607e2762f47",
   "metadata": {},
   "outputs": [
    {
     "name": "stdout",
     "output_type": "stream",
     "text": [
      "5.0\n",
      "9.0\n",
      "1.6197751905438615\n",
      "0.15425144988758405\n"
     ]
    }
   ],
   "source": [
    "##build in modules \n",
    "import math\n",
    "print(math.sqrt(25))\n",
    "print(math.sqrt(81))\n",
    "print(math.tan(45))\n",
    "print(math.cos(30))"
   ]
  },
  {
   "cell_type": "code",
   "execution_count": 150,
   "id": "55337a23-9029-4236-b1af-e2c566abf16f",
   "metadata": {},
   "outputs": [
    {
     "name": "stdout",
     "output_type": "stream",
     "text": [
      "Random integer between 1 and 10: 1\n",
      "Randomly chosen language: Java\n"
     ]
    }
   ],
   "source": [
    "import random  \n",
    "num = random.randint(1, 10)\n",
    "print(f\"Random integer between 1 and 10: {num}\")\n",
    "fruits = [\"Java\", \"C\", \"C++\", \"Python\"]\n",
    "chosen_fruit = random.choice(fruits)\n",
    "print(f\"Randomly chosen language: {chosen_fruit}\")"
   ]
  },
  {
   "cell_type": "code",
   "execution_count": 151,
   "id": "dbc24c64-8f20-436e-bcd8-0e8f5ab802c3",
   "metadata": {},
   "outputs": [
    {
     "name": "stdout",
     "output_type": "stream",
     "text": [
      "random integer between 1 and 20: 18\n"
     ]
    }
   ],
   "source": [
    "import random\n",
    "num = random.randint(1,20)\n",
    "print(f\"random integer between 1 and 20: {num}\")"
   ]
  },
  {
   "cell_type": "code",
   "execution_count": null,
   "id": "c04cb732-e6e7-4719-bcd4-b57491945f10",
   "metadata": {},
   "outputs": [],
   "source": []
  }
 ],
 "metadata": {
  "kernelspec": {
   "display_name": "Python [conda env:base] *",
   "language": "python",
   "name": "conda-base-py"
  },
  "language_info": {
   "codemirror_mode": {
    "name": "ipython",
    "version": 3
   },
   "file_extension": ".py",
   "mimetype": "text/x-python",
   "name": "python",
   "nbconvert_exporter": "python",
   "pygments_lexer": "ipython3",
   "version": "3.12.7"
  }
 },
 "nbformat": 4,
 "nbformat_minor": 5
}
