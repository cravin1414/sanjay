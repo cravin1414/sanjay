{
 "cells": [
  {
   "cell_type": "code",
   "execution_count": 8,
   "id": "ec4377d0-178a-468f-adc6-1ec178e02dbe",
   "metadata": {},
   "outputs": [
    {
     "name": "stdout",
     "output_type": "stream",
     "text": [
      "True\n"
     ]
    }
   ],
   "source": [
    "##python aiml concepts\n",
    "\n"
   ]
  },
  {
   "cell_type": "code",
   "execution_count": 9,
   "id": "f2c164df-b12a-4cd2-8237-4b16d753f0f0",
   "metadata": {},
   "outputs": [
    {
     "name": "stdout",
     "output_type": "stream",
     "text": [
      "30\n"
     ]
    }
   ],
   "source": [
    "##datatypes (int/flaot/string/boolean)\n",
    "a=int(10)\n",
    "b=int(20)\n",
    "print(a+b)"
   ]
  },
  {
   "cell_type": "code",
   "execution_count": 11,
   "id": "bfaa3241-293f-4144-a50f-9d5c75e855f1",
   "metadata": {},
   "outputs": [
    {
     "name": "stdin",
     "output_type": "stream",
     "text": [
      "enter the name: 12\n",
      "enter no: 45\n"
     ]
    },
    {
     "name": "stdout",
     "output_type": "stream",
     "text": [
      "57\n"
     ]
    }
   ],
   "source": [
    "a=int(input(\"enter the name:\"))\n",
    "b=int(input(\"enter no:\"))\n",
    "print(a+b)"
   ]
  },
  {
   "cell_type": "code",
   "execution_count": 13,
   "id": "10074bee-6ebb-4ade-aff9-47034f6a458d",
   "metadata": {},
   "outputs": [
    {
     "name": "stdout",
     "output_type": "stream",
     "text": [
      "cravin sanjay\n"
     ]
    }
   ],
   "source": [
    "a=str(\"cravin\")\n",
    "b=str(\"sanjay\")\n",
    "print(a+\" \"+b)"
   ]
  },
  {
   "cell_type": "code",
   "execution_count": 18,
   "id": "56f41683-3a89-4ed7-a5b8-3c4509502daa",
   "metadata": {},
   "outputs": [
    {
     "name": "stdout",
     "output_type": "stream",
     "text": [
      "True\n",
      "True\n",
      "False\n"
     ]
    }
   ],
   "source": [
    "a=str(\"cravin\")\n",
    "b=12\n",
    "c=0\n",
    "print(bool(a))\n",
    "print(bool(b))\n",
    "print(bool(c))\n",
    "\n",
    "\n",
    "\n"
   ]
  },
  {
   "cell_type": "code",
   "execution_count": 24,
   "id": "54d57fcb-3734-492e-8e8f-bc97cef141f2",
   "metadata": {},
   "outputs": [
    {
     "name": "stdin",
     "output_type": "stream",
     "text": [
      "enter the no: 4.2\n",
      "enter the no: 4.2\n"
     ]
    },
    {
     "name": "stdout",
     "output_type": "stream",
     "text": [
      "8.4\n"
     ]
    }
   ],
   "source": [
    "a=float(input(\"enter the no:\"))\n",
    "b=float(input(\"enter the no:\"))\n",
    "print(a+b)"
   ]
  },
  {
   "cell_type": "code",
   "execution_count": 46,
   "id": "2a8acfb6-63d0-41de-a66d-051fff85585b",
   "metadata": {},
   "outputs": [
    {
     "name": "stdout",
     "output_type": "stream",
     "text": [
      "['cravin', 'sanjay', 'cravin', 'rahul']\n",
      "['cravin', 'cravin', 'rahul']\n",
      "{'cravin', 'sanajy'}\n",
      "cravin\n",
      "('red', 'yellow', 'violet')\n"
     ]
    }
   ],
   "source": [
    "##set,list,dict,tuples\n",
    "a=[\"cravin\",\"sanjay\",\"cravin\"]\n",
    "a.append(\"rahul\")\n",
    "print(a)\n",
    "a.remove(\"sanjay\")\n",
    "print(a)\n",
    "a={\"cravin\",\"sanajy\"}\n",
    "print(a)\n",
    "dict={\"a\":\"cravin\",\"b\":9}\n",
    "print(dict[\"a\"])\n",
    "colours=(\"red\",\"yellow\",\"violet\")\n",
    "print(colours)\n"
   ]
  },
  {
   "cell_type": "code",
   "execution_count": null,
   "id": "8989caf8-c33a-4b54-bbd5-b2dbc2c062dc",
   "metadata": {},
   "outputs": [],
   "source": [
    "##control flow statement\n",
    "if statement\n",
    "elif statement\n",
    "else statement\n",
    "for loop (while/do while)\n",
    "break statement\n",
    "continue statement\n",
    "pass statement\n",
    "\n",
    "\n",
    "\n",
    "\n"
   ]
  },
  {
   "cell_type": "code",
   "execution_count": 51,
   "id": "f5a50ff2-f2e1-40d4-b0b0-9eb3373cd57f",
   "metadata": {},
   "outputs": [
    {
     "name": "stdout",
     "output_type": "stream",
     "text": [
      "1\n",
      "wrong number\n",
      "2\n",
      "even number\n",
      "3\n",
      "even number\n",
      "4\n",
      "even number\n",
      "5\n",
      "wrong number\n",
      "6\n",
      "wrong number\n",
      "7\n",
      "wrong number\n",
      "8\n",
      "even number\n",
      "9\n",
      "even number\n",
      "10\n",
      "even number\n",
      "11\n",
      "wrong number\n",
      "12\n",
      "wrong number\n",
      "13\n",
      "wrong number\n",
      "14\n",
      "even number\n",
      "15\n",
      "even number\n",
      "16\n",
      "even number\n",
      "17\n",
      "wrong number\n",
      "18\n",
      "wrong number\n",
      "19\n",
      "wrong number\n",
      "20\n",
      "even number\n",
      "21\n",
      "even number\n",
      "22\n",
      "even number\n",
      "23\n",
      "wrong number\n",
      "24\n",
      "wrong number\n",
      "25\n",
      "wrong number\n",
      "26\n",
      "even number\n",
      "27\n",
      "even number\n",
      "28\n",
      "even number\n",
      "29\n",
      "wrong number\n",
      "30\n",
      "wrong number\n",
      "31\n",
      "wrong number\n",
      "32\n",
      "even number\n",
      "33\n",
      "even number\n",
      "34\n",
      "even number\n",
      "35\n",
      "wrong number\n",
      "36\n",
      "wrong number\n",
      "37\n",
      "wrong number\n",
      "38\n",
      "even number\n",
      "39\n",
      "even number\n",
      "40\n",
      "even number\n",
      "41\n",
      "wrong number\n",
      "42\n",
      "wrong number\n",
      "43\n",
      "wrong number\n",
      "44\n",
      "even number\n",
      "45\n",
      "even number\n",
      "46\n",
      "even number\n",
      "47\n",
      "wrong number\n",
      "48\n",
      "wrong number\n",
      "49\n",
      "wrong number\n",
      "50\n",
      "even number\n",
      "51\n",
      "even number\n",
      "52\n",
      "even number\n",
      "53\n",
      "wrong number\n",
      "54\n",
      "wrong number\n",
      "55\n",
      "wrong number\n",
      "56\n",
      "even number\n",
      "57\n",
      "even number\n",
      "58\n",
      "even number\n",
      "59\n",
      "wrong number\n",
      "60\n",
      "wrong number\n",
      "61\n",
      "wrong number\n",
      "62\n",
      "even number\n",
      "63\n",
      "even number\n",
      "64\n",
      "even number\n",
      "65\n",
      "wrong number\n",
      "66\n",
      "wrong number\n",
      "67\n",
      "wrong number\n",
      "68\n",
      "even number\n",
      "69\n",
      "even number\n",
      "70\n",
      "even number\n",
      "71\n",
      "wrong number\n",
      "72\n",
      "wrong number\n",
      "73\n",
      "wrong number\n",
      "74\n",
      "even number\n",
      "75\n",
      "even number\n",
      "76\n",
      "even number\n",
      "77\n",
      "wrong number\n",
      "78\n",
      "wrong number\n",
      "79\n",
      "wrong number\n",
      "80\n",
      "even number\n",
      "81\n",
      "even number\n",
      "82\n",
      "even number\n",
      "83\n",
      "wrong number\n",
      "84\n",
      "wrong number\n",
      "85\n",
      "wrong number\n",
      "86\n",
      "even number\n",
      "87\n",
      "even number\n",
      "88\n",
      "even number\n",
      "89\n",
      "wrong number\n",
      "90\n",
      "wrong number\n",
      "91\n",
      "wrong number\n",
      "92\n",
      "even number\n",
      "93\n",
      "even number\n",
      "94\n",
      "even number\n",
      "95\n",
      "wrong number\n",
      "96\n",
      "wrong number\n",
      "97\n",
      "wrong number\n",
      "98\n",
      "even number\n",
      "99\n",
      "even number\n"
     ]
    }
   ],
   "source": [
    "for i in range(1,100):\n",
    "    print(i)\n",
    "    if (i%2==0 and i%3!=0) or (i%3==0 and i%2!=0):\n",
    "         print(\"even number\")\n",
    "    \n",
    "    else:\n",
    "        print(\"wrong number\")\n",
    "   \n",
    "    "
   ]
  },
  {
   "cell_type": "code",
   "execution_count": 58,
   "id": "6b81abd4-37b4-4b42-aa42-a1136f4e430e",
   "metadata": {},
   "outputs": [
    {
     "name": "stdout",
     "output_type": "stream",
     "text": [
      "8\n"
     ]
    }
   ],
   "source": [
    "for i in range(0,10):\n",
    "    if i==8:\n",
    "     break\n",
    "print(i)"
   ]
  },
  {
   "cell_type": "code",
   "execution_count": 60,
   "id": "71404c60-cbf6-4e9a-ac32-364beddd6e0c",
   "metadata": {},
   "outputs": [
    {
     "name": "stdout",
     "output_type": "stream",
     "text": [
      "0\n",
      "1\n",
      "2\n",
      "3\n",
      "4\n"
     ]
    }
   ],
   "source": [
    "for i in range(0,10):\n",
    "    if i == 5:\n",
    "        break  \n",
    "    print(i)"
   ]
  },
  {
   "cell_type": "code",
   "execution_count": 63,
   "id": "5863049b-a72e-4c84-b18f-65def769be8c",
   "metadata": {},
   "outputs": [
    {
     "name": "stdin",
     "output_type": "stream",
     "text": [
      "enter number: 2\n"
     ]
    },
    {
     "name": "stdout",
     "output_type": "stream",
     "text": [
      "1\n"
     ]
    }
   ],
   "source": [
    "num=int(input(\"enter number:\"))\n",
    "for num in range(1,num):\n",
    "    if num%3==0:\n",
    "        break\n",
    "print(num)"
   ]
  },
  {
   "cell_type": "code",
   "execution_count": 66,
   "id": "eea9113d-f95d-4136-b809-56b5d125c38d",
   "metadata": {},
   "outputs": [
    {
     "name": "stdin",
     "output_type": "stream",
     "text": [
      "enter number: 40\n"
     ]
    },
    {
     "name": "stdout",
     "output_type": "stream",
     "text": [
      "39\n"
     ]
    }
   ],
   "source": [
    "num=int(input(\"enter number:\"))\n",
    "for num in range(2,num):\n",
    "    if num%4==0:\n",
    "        continue\n",
    "        \n",
    "print(num)"
   ]
  },
  {
   "cell_type": "code",
   "execution_count": 67,
   "id": "9d949a91-abdc-4a8e-a5f1-91c9ed6da73b",
   "metadata": {},
   "outputs": [
    {
     "name": "stdin",
     "output_type": "stream",
     "text": [
      "enter the name: lion\n",
      "enter the name: tiger\n"
     ]
    }
   ],
   "source": [
    "##oops concepts\n",
    "##class and objects\n",
    "class animal():\n",
    "    cravin=input(\"enter the name:\")\n",
    "    rahul=input(\"enter the name:\")\n",
    "        "
   ]
  },
  {
   "cell_type": "code",
   "execution_count": 68,
   "id": "6f9cd0ef-1251-4386-ae43-c9e5589134e0",
   "metadata": {},
   "outputs": [
    {
     "name": "stdout",
     "output_type": "stream",
     "text": [
      "lion\n",
      "tiger\n"
     ]
    }
   ],
   "source": [
    "obj1=animal()\n",
    "print(obj1.cravin)\n",
    "print(obj1.rahul)\n"
   ]
  },
  {
   "cell_type": "code",
   "execution_count": 74,
   "id": "83b60916-6435-4d19-a933-d0d53ae74e27",
   "metadata": {},
   "outputs": [
    {
     "name": "stdout",
     "output_type": "stream",
     "text": [
      "welcome\n",
      "warm welcome\n",
      "bye bye\n",
      "graduated\n"
     ]
    }
   ],
   "source": [
    "##encapsulation\n",
    "#public\n",
    "#private\n",
    "#protected\n",
    "\n",
    "class school():\n",
    "    def degree(self):\n",
    "        print(\"welcome\")\n",
    "        print(\"warm welcome\")\n",
    "        self._msc()\n",
    "\n",
    "    def _msc(self):\n",
    "        print(\"bye bye\")\n",
    "        self.__bsc()\n",
    "\n",
    "    def __bsc(self):\n",
    "        print(\"graduated\")\n",
    "rahul=school()\n",
    "rahul.degree()\n",
    "        \n",
    "\n",
    "        "
   ]
  },
  {
   "cell_type": "code",
   "execution_count": 85,
   "id": "35078df5-2339-4cde-883c-20765abbbada",
   "metadata": {},
   "outputs": [
    {
     "data": {
      "text/plain": [
       "<__main__.vehicle at 0x22414db53d0>"
      ]
     },
     "execution_count": 85,
     "metadata": {},
     "output_type": "execute_result"
    }
   ],
   "source": [
    "class vehicle():\n",
    "    def brand(self):\n",
    "        model=input(\"model:\")\n",
    "        year=int(input(\"year:\"))\n",
    "\n",
    "class car(vehicle):\n",
    "    def functions_of_a_car(self):\n",
    "        print(\"the car engine is start\")\n",
    "        print(\"the car is luxury\")\n",
    "\n",
    "vehicle()\n",
    "\n",
    "\n",
    "        "
   ]
  },
  {
   "cell_type": "code",
   "execution_count": 94,
   "id": "02284217-bbcd-481e-a04a-ad3932c9b431",
   "metadata": {},
   "outputs": [
    {
     "name": "stdin",
     "output_type": "stream",
     "text": [
      "model: ghj\n",
      "year: 54\n"
     ]
    }
   ],
   "source": [
    "Car=car()\n",
    "Car.brand()"
   ]
  },
  {
   "cell_type": "code",
   "execution_count": 97,
   "id": "87364e9a-c552-49a4-afe3-59c7adcb73ab",
   "metadata": {},
   "outputs": [
    {
     "data": {
      "text/plain": [
       "<__main__.scl at 0x22414660fb0>"
      ]
     },
     "execution_count": 97,
     "metadata": {},
     "output_type": "execute_result"
    }
   ],
   "source": [
    "##inheritance\n",
    "class clg():\n",
    "    def arts(self):\n",
    "        ug=input(\"enter name:\")\n",
    "        pg=input(\"enter name:\")\n",
    "class scl(clg):\n",
    "    def science(self):\n",
    "        ten=input(\"enter name:\")\n",
    "        twelve=input(\"enter name:\")\n",
    "        print(\"april fool\")\n",
    "scl()\n",
    "        "
   ]
  },
  {
   "cell_type": "code",
   "execution_count": 99,
   "id": "5fd4a53d-95a8-4f58-8b9c-ef1a76893fa1",
   "metadata": {},
   "outputs": [
    {
     "name": "stdin",
     "output_type": "stream",
     "text": [
      "enter name: cravin\n",
      "enter name: rahul\n"
     ]
    },
    {
     "name": "stdout",
     "output_type": "stream",
     "text": [
      "april fool\n"
     ]
    }
   ],
   "source": [
    "stud=scl()\n",
    "stud.science()"
   ]
  },
  {
   "cell_type": "code",
   "execution_count": 4,
   "id": "14d731d9-21fe-4bee-b16b-c950f3840314",
   "metadata": {},
   "outputs": [
    {
     "name": "stdout",
     "output_type": "stream",
     "text": [
      "5.0\n",
      "3.141592653589793\n",
      "-0.13352640702153587\n",
      "1.6197751905438615\n",
      "26\n",
      "25\n",
      "25.0\n",
      "729.0\n"
     ]
    }
   ],
   "source": [
    "##modules and packages\n",
    "import math as m\n",
    "print(m.sqrt(25))\n",
    "print(m.pi)\n",
    "print(m.tan(25))\n",
    "print(m.tan(45))\n",
    "print(m.ceil(25.1))\n",
    "print(m.floor(25.3))\n",
    "print(m.fabs(-25))\n",
    "print(m.pow(9,3))\n"
   ]
  },
  {
   "cell_type": "code",
   "execution_count": 17,
   "id": "2928fa3f-3839-41a5-a6ba-059220cc2d61",
   "metadata": {},
   "outputs": [
    {
     "name": "stdout",
     "output_type": "stream",
     "text": [
      "blue\n",
      "1\n",
      "None\n",
      "[5, 20, 30, 10]\n"
     ]
    }
   ],
   "source": [
    "import random\n",
    "colours=['red','orange','blue']\n",
    "x=[10,20,30,5]\n",
    "print(random.choice(colours))\n",
    "print(random.randint(1,10))\n",
    "print(random.shuffle(x))\n",
    "print(x)\n",
    "\n"
   ]
  },
  {
   "cell_type": "code",
   "execution_count": 23,
   "id": "df0ec935-3949-4cb9-8fa7-d76fd332e699",
   "metadata": {},
   "outputs": [
    {
     "name": "stdin",
     "output_type": "stream",
     "text": [
      "enter number: cravin\n"
     ]
    },
    {
     "name": "stdout",
     "output_type": "stream",
     "text": [
      "ValueError invalid literal for int() with base 10: 'cravin'\n",
      "iam done\n"
     ]
    }
   ],
   "source": [
    "##Exception handling\n",
    "try:\n",
    "    a=int(input(\"enter number:\"))\n",
    "    b=int(input(\"enter number:\"))\n",
    "    print(a/b)\n",
    "except ValueError as e:\n",
    "    print(\"ValueError\",e)\n",
    "except ZeroDivision as e:\n",
    "    print(\"ZeroDivision\",e)\n",
    "except Exception as e:\n",
    "    print(\"Exception\",e)\n",
    "finally:\n",
    "    print(\"iam done\")"
   ]
  },
  {
   "cell_type": "code",
   "execution_count": null,
   "id": "cd26f46f-4b99-4148-be57-671fa85b1d97",
   "metadata": {},
   "outputs": [],
   "source": [
    "##File handling\n",
    "import os"
   ]
  }
 ],
 "metadata": {
  "kernelspec": {
   "display_name": "Python [conda env:base] *",
   "language": "python",
   "name": "conda-base-py"
  },
  "language_info": {
   "codemirror_mode": {
    "name": "ipython",
    "version": 3
   },
   "file_extension": ".py",
   "mimetype": "text/x-python",
   "name": "python",
   "nbconvert_exporter": "python",
   "pygments_lexer": "ipython3",
   "version": "3.12.7"
  }
 },
 "nbformat": 4,
 "nbformat_minor": 5
}
