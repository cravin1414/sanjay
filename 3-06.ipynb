{
 "cells": [
  {
   "cell_type": "code",
   "execution_count": 1,
   "id": "025b4d4d-d33a-4787-9dfb-66e4785bf976",
   "metadata": {},
   "outputs": [
    {
     "name": "stdout",
     "output_type": "stream",
     "text": [
      "[2 3 4]\n"
     ]
    }
   ],
   "source": [
    "##numpy concepts\n",
    "import numpy as np\n",
    "n1=np.array([2,3,4])\n",
    "print(n1)\n"
   ]
  },
  {
   "cell_type": "code",
   "execution_count": 5,
   "id": "6d82dc0c-b8c8-46d8-b454-f2576a4fa28e",
   "metadata": {},
   "outputs": [
    {
     "name": "stdout",
     "output_type": "stream",
     "text": [
      "[[2 2]\n",
      " [3 2]]\n"
     ]
    }
   ],
   "source": [
    "##two dimensional array\n",
    "n2=np.array([[2,2],[3,2]])\n",
    "print(n2)"
   ]
  },
  {
   "cell_type": "code",
   "execution_count": 14,
   "id": "c2eaa89a-0de8-499d-9334-d4979dd285fd",
   "metadata": {},
   "outputs": [
    {
     "name": "stdout",
     "output_type": "stream",
     "text": [
      "[[[1 1 1 1 1 1 1 1]\n",
      "  [1 1 1 1 1 1 1 1]\n",
      "  [1 1 1 1 1 1 1 1]]\n",
      "\n",
      " [[1 1 1 1 1 1 1 1]\n",
      "  [1 1 1 1 1 1 1 1]\n",
      "  [1 1 1 1 1 1 1 1]]\n",
      "\n",
      " [[1 1 1 1 1 1 1 1]\n",
      "  [1 1 1 1 1 1 1 1]\n",
      "  [1 1 1 1 1 1 1 1]]\n",
      "\n",
      " [[1 1 1 1 1 1 1 1]\n",
      "  [1 1 1 1 1 1 1 1]\n",
      "  [1 1 1 1 1 1 1 1]]\n",
      "\n",
      " [[1 1 1 1 1 1 1 1]\n",
      "  [1 1 1 1 1 1 1 1]\n",
      "  [1 1 1 1 1 1 1 1]]\n",
      "\n",
      " [[1 1 1 1 1 1 1 1]\n",
      "  [1 1 1 1 1 1 1 1]\n",
      "  [1 1 1 1 1 1 1 1]]\n",
      "\n",
      " [[1 1 1 1 1 1 1 1]\n",
      "  [1 1 1 1 1 1 1 1]\n",
      "  [1 1 1 1 1 1 1 1]]\n",
      "\n",
      " [[1 1 1 1 1 1 1 1]\n",
      "  [1 1 1 1 1 1 1 1]\n",
      "  [1 1 1 1 1 1 1 1]]]\n"
     ]
    }
   ],
   "source": [
    "###three dimensional array\n",
    "n3=np.ones([8,3,8],dtype=\"int\")\n",
    "print(n3)"
   ]
  },
  {
   "cell_type": "code",
   "execution_count": 15,
   "id": "19de9fea-01bb-41ce-916f-b72bae21b29d",
   "metadata": {},
   "outputs": [
    {
     "name": "stdout",
     "output_type": "stream",
     "text": [
      "[0 1 2 3 4 5 6 7 8 9]\n"
     ]
    }
   ],
   "source": [
    "n4=np.arange(10)\n",
    "print(n4)"
   ]
  },
  {
   "cell_type": "code",
   "execution_count": 18,
   "id": "919f7d3d-0ffb-4bdb-8d05-656316b38219",
   "metadata": {},
   "outputs": [
    {
     "name": "stdout",
     "output_type": "stream",
     "text": [
      "[[0 0 0]\n",
      " [0 0 0]\n",
      " [0 0 0]]\n"
     ]
    }
   ],
   "source": [
    "##zeros concept\n",
    "n5=np.zeros([3,3],dtype=\"int\")\n",
    "print(n5)"
   ]
  },
  {
   "cell_type": "code",
   "execution_count": 19,
   "id": "d853c9a3-0e50-4027-9ea3-4a8c26bbc958",
   "metadata": {},
   "outputs": [
    {
     "name": "stdout",
     "output_type": "stream",
     "text": [
      "[[1 1 1]\n",
      " [1 1 1]\n",
      " [1 1 1]]\n"
     ]
    }
   ],
   "source": [
    "##ones concept\n",
    "n5=np.ones([3,3],dtype=\"int\")\n",
    "print(n5)"
   ]
  },
  {
   "cell_type": "code",
   "execution_count": 20,
   "id": "e38cd7e4-79e9-497f-bd17-5f104c9bfc10",
   "metadata": {},
   "outputs": [
    {
     "name": "stdout",
     "output_type": "stream",
     "text": [
      "[[3 3 3]\n",
      " [3 3 3]\n",
      " [3 3 3]]\n"
     ]
    }
   ],
   "source": [
    "##full concept\n",
    "n6=np.full([3,3],3)\n",
    "print(n6)\n"
   ]
  },
  {
   "cell_type": "code",
   "execution_count": 22,
   "id": "198329e6-d2e6-464a-b61f-51f4ea336510",
   "metadata": {},
   "outputs": [
    {
     "name": "stdout",
     "output_type": "stream",
     "text": [
      "[[0.e+000 0.e+000 0.e+000 0.e+000]\n",
      " [0.e+000 5.e-321 0.e+000 0.e+000]]\n"
     ]
    }
   ],
   "source": [
    "##empty concept\n",
    "n7=np.empty([2,4])\n",
    "print(n7)"
   ]
  },
  {
   "cell_type": "code",
   "execution_count": 23,
   "id": "6dfacfc7-7086-4819-a4ac-b61fcca0f675",
   "metadata": {},
   "outputs": [
    {
     "name": "stdout",
     "output_type": "stream",
     "text": [
      "[[5. 5. 5. 5.]\n",
      " [5. 5. 5. 5.]]\n"
     ]
    }
   ],
   "source": [
    "##fill concept\n",
    "n7.fill(5)\n",
    "print(n7)"
   ]
  },
  {
   "cell_type": "code",
   "execution_count": 26,
   "id": "dd6689fe-dce6-4bf4-89dc-6768242dd2ff",
   "metadata": {},
   "outputs": [
    {
     "name": "stdout",
     "output_type": "stream",
     "text": [
      "[[1 1 1 1 1 1 1 1]\n",
      " [1 1 1 1 1 1 1 1]\n",
      " [1 1 1 1 1 1 1 1]]\n"
     ]
    }
   ],
   "source": [
    "##find the place of the value\n",
    "print(n3[1])"
   ]
  },
  {
   "cell_type": "code",
   "execution_count": 31,
   "id": "e27baef5-46c3-41cf-965c-2c91738e5e1c",
   "metadata": {},
   "outputs": [
    {
     "name": "stdout",
     "output_type": "stream",
     "text": [
      "[[10  2]\n",
      " [ 3  2]]\n"
     ]
    }
   ],
   "source": [
    "n2[0,0]=10\n",
    "print(n2)"
   ]
  },
  {
   "cell_type": "code",
   "execution_count": 32,
   "id": "f8c6a7e4-922d-47d6-bc68-05925bc4a36e",
   "metadata": {},
   "outputs": [
    {
     "name": "stdout",
     "output_type": "stream",
     "text": [
      "(8, 3, 8)\n"
     ]
    }
   ],
   "source": [
    "## shape,ndim,nbytes,itemsize\n",
    "print(n3.shape)"
   ]
  },
  {
   "cell_type": "code",
   "execution_count": 33,
   "id": "f0bee6af-17ac-492a-afd5-a03869bd197a",
   "metadata": {},
   "outputs": [
    {
     "name": "stdout",
     "output_type": "stream",
     "text": [
      "3\n"
     ]
    }
   ],
   "source": [
    "print(n3.ndim)"
   ]
  },
  {
   "cell_type": "code",
   "execution_count": 34,
   "id": "a5ef2f70-2a48-47b0-8912-aeab11bba97f",
   "metadata": {},
   "outputs": [
    {
     "name": "stdout",
     "output_type": "stream",
     "text": [
      "768\n"
     ]
    }
   ],
   "source": [
    "print(n3.nbytes)"
   ]
  },
  {
   "cell_type": "code",
   "execution_count": 35,
   "id": "90ed41b5-6c3f-475f-8935-b5297f828960",
   "metadata": {},
   "outputs": [
    {
     "name": "stdout",
     "output_type": "stream",
     "text": [
      "4\n"
     ]
    }
   ],
   "source": [
    "print(n3.itemsize)"
   ]
  },
  {
   "cell_type": "code",
   "execution_count": 36,
   "id": "e4715f60-8d23-4d2c-9424-d1e1fa9c3be8",
   "metadata": {},
   "outputs": [
    {
     "name": "stdout",
     "output_type": "stream",
     "text": [
      "[10 12 15 32 45 52 54]\n"
     ]
    }
   ],
   "source": [
    "##sorting concept\n",
    "x=[45,52,12,10,54,32,15]\n",
    "y=np.sort(x)\n",
    "print(y)"
   ]
  },
  {
   "cell_type": "code",
   "execution_count": 38,
   "id": "199507be-d460-42d2-9d81-20135931da94",
   "metadata": {},
   "outputs": [
    {
     "name": "stdout",
     "output_type": "stream",
     "text": [
      "[0 1 2 3 4 5]\n",
      "[0 1 2 3 4 5 6 7]\n",
      "[0 1 2 3 4 5 0 1 2 3 4 5 6 7]\n"
     ]
    }
   ],
   "source": [
    "##concatenate with multile arrays\n",
    "x=np.arange(6)\n",
    "print(x)\n",
    "y=np.arange(8)\n",
    "print(y)\n",
    "z=np.concatenate((x,y))\n",
    "print(z)"
   ]
  },
  {
   "cell_type": "code",
   "execution_count": 41,
   "id": "3ecd9daa-76c5-468f-bd11-43ccf04f2805",
   "metadata": {},
   "outputs": [
    {
     "name": "stdout",
     "output_type": "stream",
     "text": [
      "            name  year   price\n",
      "1          bajaj  2020  100000\n",
      "2      himalayan  2021  200000\n",
      "3  royal enfield  2022  300000\n"
     ]
    }
   ],
   "source": [
    "##pandas concept\n",
    "import pandas as ap\n",
    "bike={\"name\":[\"bajaj\",\"himalayan\",\"royal enfield\"],\"year\":[\"2020\",\"2021\",\"2022\"],\"price\":[\"100000\",\"200000\",\"300000\"]}\n",
    "cg=ap.DataFrame(bike,index=[1,2,3])\n",
    "print(cg)"
   ]
  },
  {
   "cell_type": "code",
   "execution_count": 43,
   "id": "ed67f710-e67f-418a-b579-dff077f558a5",
   "metadata": {},
   "outputs": [
    {
     "name": "stdout",
     "output_type": "stream",
     "text": [
      "0     233\n",
      "1    5665\n",
      "2    5584\n",
      "dtype: int64\n"
     ]
    }
   ],
   "source": [
    "rahul=[233,5665,5584]\n",
    "cravin=ap.Series(rahul)\n",
    "print(cravin)"
   ]
  },
  {
   "cell_type": "code",
   "execution_count": 45,
   "id": "92afee54-8d00-4cf6-9a10-7d50ce0d6b97",
   "metadata": {},
   "outputs": [
    {
     "name": "stdout",
     "output_type": "stream",
     "text": [
      "5584\n",
      "name     royal enfield\n",
      "year              2022\n",
      "price           300000\n",
      "Name: 3, dtype: object\n"
     ]
    }
   ],
   "source": [
    "print(cravin[2])\n",
    "print(cg.loc[3])"
   ]
  },
  {
   "cell_type": "code",
   "execution_count": 46,
   "id": "6e951a7c-1f65-4e89-81cc-068ec41a371a",
   "metadata": {},
   "outputs": [
    {
     "data": {
      "text/plain": [
       "<function matplotlib.pyplot.show(close=None, block=None)>"
      ]
     },
     "execution_count": 46,
     "metadata": {},
     "output_type": "execute_result"
    },
    {
     "data": {
      "image/png": "[encoded data removed]",
      "text/plain": [
       "<Figure size 640x480 with 1 Axes>"
      ]
     },
     "metadata": {},
     "output_type": "display_data"
    }
   ],
   "source": [
    "##matplotlib concept\n",
    "import matplotlib.pyplot as plt\n",
    "import numpy as np\n",
    "x=np.array([\"benz\",\"ciaz\",\"rolls royce\",\"bmw\",\"audi\"])\n",
    "y=np.array([12000,45000,65550,85000,100000])\n",
    "colours=np.array([10,20,30,40,50])\n",
    "size=np.array([100,200,300,400,500])\n",
    "plt.scatter(x,y,c=colours,s=size)\n",
    "plt.show\n"
   ]
  },
  {
   "cell_type": "code",
   "execution_count": 48,
   "id": "1c3e0760-ce92-4149-acfb-15f9c37d74c6",
   "metadata": {},
   "outputs": [
    {
     "data": {
      "image/png": "[encoded data removed]",
      "text/plain": [
       "<Figure size 640x480 with 1 Axes>"
      ]
     },
     "metadata": {},
     "output_type": "display_data"
    }
   ],
   "source": [
    "import matplotlib.pyplot as plt\n",
    "import numpy as np\n",
    "a=np.array([120,230,564,752,850])\n",
    "b=np.array([450,520,564,584,658])\n",
    "plt.xlabel('xaxis')\n",
    "plt.ylabel('yaxis')\n",
    "plt.plot()\n",
    "plt.show()\n"
   ]
  },
  {
   "cell_type": "code",
   "execution_count": 52,
   "id": "77eb1315-7a89-4cf0-8e70-14cbfc9d2566",
   "metadata": {},
   "outputs": [
    {
     "name": "stdout",
     "output_type": "stream",
     "text": [
      "[[10  1  1]\n",
      " [ 1  1  1]\n",
      " [ 1  1  1]]\n"
     ]
    }
   ],
   "source": [
    "n5[0,0]=10\n",
    "print(n5)"
   ]
  },
  {
   "cell_type": "code",
   "execution_count": 54,
   "id": "e7eedf5d-f367-4457-812a-1093f562e6e2",
   "metadata": {},
   "outputs": [
    {
     "ename": "NameError",
     "evalue": "name 'plot' is not defined",
     "output_type": "error",
     "traceback": [
      "\u001b[1;31m---------------------------------------------------------------------------\u001b[0m",
      "\u001b[1;31mNameError\u001b[0m                                 Traceback (most recent call last)",
      "Cell \u001b[1;32mIn[54], line 6\u001b[0m\n\u001b[0;32m      4\u001b[0m b\u001b[38;5;241m=\u001b[39mnp\u001b[38;5;241m.\u001b[39marray([\u001b[38;5;241m450\u001b[39m,\u001b[38;5;241m520\u001b[39m,\u001b[38;5;241m564\u001b[39m,\u001b[38;5;241m584\u001b[39m,\u001b[38;5;241m658\u001b[39m])\n\u001b[0;32m      5\u001b[0m plt\u001b[38;5;241m.\u001b[39mbar(a,b)\n\u001b[1;32m----> 6\u001b[0m plot\u001b[38;5;241m.\u001b[39mshow()\n",
      "\u001b[1;31mNameError\u001b[0m: name 'plot' is not defined"
     ]
    },
    {
     "data": {
      "image/png": "[encoded data removed]",
      "text/plain": [
       "<Figure size 640x480 with 1 Axes>"
      ]
     },
     "metadata": {},
     "output_type": "display_data"
    }
   ],
   "source": [
    "import matplotlib.pyplot as plt\n",
    "import numpy as np\n",
    "a=np.array([\"INDIA\",\"CHINA\",\"JAPAN\",\"USA\",\"RUSSIA\"])\n",
    "b=np.array([450,520,564,584,658])\n",
    "plt.bar(a,b)\n",
    "plot.show()"
   ]
  },
  {
   "cell_type": "code",
   "execution_count": 1,
   "id": "2931985e-2168-4678-980a-239145c86890",
   "metadata": {},
   "outputs": [
    {
     "name": "stdin",
     "output_type": "stream",
     "text": [
      "Enter runs scored in over 1:  100\n",
      "Enter runs scored in over 2:  200\n",
      "Enter runs scored in over 3:  300\n",
      "Enter runs scored in over 4:  400\n",
      "Enter runs scored in over 5:  500\n",
      "Enter runs scored in over 6:  600\n",
      "Enter runs scored in over 7:  700\n",
      "Enter runs scored in over 8:  900\n",
      "Enter runs scored in over 9:  1000\n",
      "Enter runs scored in over 10:  800\n"
     ]
    },
    {
     "data": {
      "image/png": "[encoded data removed]",
      "text/plain": [
       "<Figure size 1000x600 with 1 Axes>"
      ]
     },
     "metadata": {},
     "output_type": "display_data"
    }
   ],
   "source": [
    "##assignment problem\n",
    "\n",
    "import matplotlib.pyplot as plt\n",
    " \n",
    "def get_runs():\n",
    "    runs = []\n",
    "    for over in range(1, 11):\n",
    "        run = int(input(f\"Enter runs scored in over {over}: \"))\n",
    "        runs.append(run)\n",
    "    return runs\n",
    "def plot_runs(runs):\n",
    "    overs = [f\"Over {i}\" for i in range(1, 11)]\n",
    "    plt.figure(figsize=(10, 6))\n",
    "    plt.bar(overs, runs, color='skyblue', edgecolor='black')\n",
    "    plt.title(\"Runs Scored per Over in Cricket Match\")\n",
    "    plt.xlabel(\"Overs\")\n",
    "    plt.ylabel(\"Runs\")\n",
    "    plt.grid(axis='y', linestyle='--', alpha=0.7)\n",
    "    plt.tight_layout()\n",
    "    plt.show()\n",
    "runs = get_runs()\n",
    "plot_runs(runs)"
   ]
  },
  {
   "cell_type": "code",
   "execution_count": 2,
   "id": "6221995b-8ad0-4273-a38b-ac29ce8695ac",
   "metadata": {},
   "outputs": [
    {
     "name": "stdout",
     "output_type": "stream",
     "text": [
      "Enter number of wickets fallen in each over (0 to 10 overs):\n"
     ]
    },
    {
     "name": "stdin",
     "output_type": "stream",
     "text": [
      "Over 1:  12\n"
     ]
    },
    {
     "name": "stdout",
     "output_type": "stream",
     "text": [
      "Wickets must be between 0 and 10.\n"
     ]
    },
    {
     "name": "stdin",
     "output_type": "stream",
     "text": [
      "Over 1:  17\n"
     ]
    },
    {
     "name": "stdout",
     "output_type": "stream",
     "text": [
      "Wickets must be between 0 and 10.\n"
     ]
    },
    {
     "name": "stdin",
     "output_type": "stream",
     "text": [
      "Over 1:  8\n",
      "Over 2:  7\n",
      "Over 3:  5\n",
      "Over 4:  4\n",
      "Over 5:  6\n",
      "Over 6:  7\n",
      "Over 7:  9\n",
      "Over 8:  7\n",
      "Over 9:  5\n",
      "Over 10:  8\n"
     ]
    },
    {
     "data": {
      "image/png": "[encoded data removed]",
      "text/plain": [
       "<Figure size 1000x600 with 1 Axes>"
      ]
     },
     "metadata": {},
     "output_type": "display_data"
    }
   ],
   "source": [
    "##assignment problem\n",
    "import matplotlib.pyplot as plt\n",
    " \n",
    "def get_wicket_data():\n",
    "\n",
    "    wickets = []\n",
    "\n",
    "    print(\"Enter number of wickets fallen in each over (0 to 10 overs):\")\n",
    "\n",
    "    for i in range(1, 11):\n",
    "        while True:\n",
    "\n",
    "            try:\n",
    "\n",
    "                wkts = int(input(f\"Over {i}: \"))\n",
    "\n",
    "                if 0 <= wkts <= 10:\n",
    "\n",
    "                    wickets.append(wkts)\n",
    "\n",
    "                    break\n",
    "\n",
    "                else:\n",
    "\n",
    "                    print(\"Wickets must be between 0 and 10.\")\n",
    "\n",
    "            except ValueError:\n",
    "\n",
    "                print(\"Invalid input. Please enter an integer.\")\n",
    "\n",
    "    return wickets\n",
    " \n",
    "def plot_wickets(wickets):\n",
    "    overs = [f\"Over {i}\" for i in range(1, 11)]\n",
    "\n",
    "    plt.figure(figsize=(10, 6))\n",
    "\n",
    "    plt.bar(overs, wickets, color='crimson', edgecolor='black')\n",
    "\n",
    "    plt.title(\"Fall of Wickets per Over\")\n",
    "\n",
    "    plt.xlabel(\"Overs\")\n",
    "\n",
    "    plt.ylabel(\"Number of Wickets\")\n",
    "\n",
    "    plt.ylim(0, max(wickets) + 1)\n",
    "\n",
    "    plt.grid(axis='y', linestyle='--', alpha=0.7)\n",
    "\n",
    "    plt.tight_layout()\n",
    "\n",
    "    plt.show()\n",
    "\n",
    "wicket_data = get_wicket_data()\n",
    "\n",
    "plot_wickets(wicket_data)\n",
    "\n",
    " "
   ]
  },
  {
   "cell_type": "code",
   "execution_count": 5,
   "id": "c4a45e5e-9ae9-4125-aade-061f05777010",
   "metadata": {},
   "outputs": [
    {
     "name": "stdin",
     "output_type": "stream",
     "text": [
      "Enter number of rows:  2\n",
      "Enter number of columns:  2\n"
     ]
    },
    {
     "name": "stdout",
     "output_type": "stream",
     "text": [
      "Enter 4 values row-wise:\n"
     ]
    },
    {
     "name": "stdin",
     "output_type": "stream",
     "text": [
      "Element [1][1]:  45\n",
      "Element [1][2]:  45\n",
      "Element [2][1]:  12\n",
      "Element [2][2]:  23\n"
     ]
    },
    {
     "name": "stdout",
     "output_type": "stream",
     "text": [
      "\n",
      "The 2D array is:\n",
      "[[45. 45.]\n",
      " [12. 23.]]\n",
      "\n",
      "Total of all values in the array: 125.0 \n"
     ]
    }
   ],
   "source": [
    "##Assignment4\n",
    "\n",
    "import numpy as np\n",
    "\n",
    "def get_2d_array():\n",
    "    rows = int(input(\"Enter number of rows: \"))\n",
    "    cols = int(input(\"Enter number of columns: \"))\n",
    "    \n",
    "    print(f\"Enter {rows * cols} values row-wise:\")\n",
    "    elements = []\n",
    "    for i in range(rows):\n",
    "        row = []\n",
    "        for j in range(cols):\n",
    "            val = float(input(f\"Element [{i+1}][{j+1}]: \"))\n",
    "            row.append(val)\n",
    "        elements.append(row)\n",
    "\n",
    "    arr = np.array(elements)\n",
    "    return arr\n",
    "\n",
    "def main():\n",
    "    array_2d = get_2d_array()\n",
    "    print(\"\\nThe 2D array is:\")\n",
    "    print(array_2d)\n",
    "\n",
    "    total = np.sum(array_2d)\n",
    "    print(f\"\\nTotal of all values in the array: {total} \")\n",
    "main()\n"
   ]
  },
  {
   "cell_type": "code",
   "execution_count": 7,
   "id": "f1bae633-52cb-4a01-9967-097a4d2949ff",
   "metadata": {},
   "outputs": [
    {
     "name": "stdin",
     "output_type": "stream",
     "text": [
      "Enter the number of resources:  4\n",
      "Enter name of resource 1:  a\n",
      "Enter name of resource 2:  c\n",
      "Enter name of resource 3:  d\n",
      "Enter name of resource 4:  b\n"
     ]
    },
    {
     "name": "stdout",
     "output_type": "stream",
     "text": [
      "\n",
      "Sorted list of resources:\n",
      "1. a\n",
      "2. b\n",
      "3. c\n",
      "4. d\n"
     ]
    }
   ],
   "source": [
    "##Assignment 5\n",
    "def get_resource_names():\n",
    "    resource_names = []\n",
    "    n = int(input(\"Enter the number of resources: \"))\n",
    "    for i in range(n):\n",
    "        name = input(f\"Enter name of resource {i + 1}: \")\n",
    "        resource_names.append(name)  \n",
    "    return resource_names\n",
    "def main():\n",
    "    names = get_resource_names()\n",
    "    names.sort()\n",
    "    print(\"\\nSorted list of resources:\")\n",
    "    for i, name in enumerate(names, start=1):\n",
    "        print(f\"{i}. {name}\")\n",
    "if __name__ == \"__main__\":\n",
    "    main()\n",
    "\n",
    "\n"
   ]
  },
  {
   "cell_type": "code",
   "execution_count": null,
   "id": "4e649b7d-b5b2-4951-930d-98d866bcbc79",
   "metadata": {},
   "outputs": [],
   "source": []
  }
 ],
 "metadata": {
  "kernelspec": {
   "display_name": "Python [conda env:base] *",
   "language": "python",
   "name": "conda-base-py"
  },
  "language_info": {
   "codemirror_mode": {
    "name": "ipython",
    "version": 3
   },
   "file_extension": ".py",
   "mimetype": "text/x-python",
   "name": "python",
   "nbconvert_exporter": "python",
   "pygments_lexer": "ipython3",
   "version": "3.12.7"
  }
 },
 "nbformat": 4,
 "nbformat_minor": 5
}
