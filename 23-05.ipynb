{
 "cells": [
  {
   "cell_type": "code",
   "execution_count": 10,
   "id": "87908dee-0a98-4fe9-acf1-a27ab3fe1e64",
   "metadata": {},
   "outputs": [
    {
     "name": "stdout",
     "output_type": "stream",
     "text": [
      "4.0\n",
      "not accepted\n",
      "iam done\n"
     ]
    }
   ],
   "source": [
    "###revision\n",
    "try:\n",
    "    cravin=lambda a,b:a/b\n",
    "    result=cravin(20,5)\n",
    "    print(result)\n",
    "    if result > 10:\n",
    "        print(\"accepted\")\n",
    "    else:\n",
    "        print(\"not accepted\")\n",
    "except Exception as e:\n",
    "    print(\"Exception\",e)\n",
    "finally:\n",
    "    print(\"iam done\")\n",
    "    "
   ]
  },
  {
   "cell_type": "code",
   "execution_count": 25,
   "id": "5ce2be54-8878-48fc-afc7-a5fa86b550a8",
   "metadata": {},
   "outputs": [
    {
     "name": "stdout",
     "output_type": "stream",
     "text": [
      "completed\n"
     ]
    }
   ],
   "source": [
    "try:\n",
    "    class car():\n",
    "        def vehicle(self):\n",
    "            name=input(\"enter name:\")\n",
    "            no=int(input(\"veh no:\"))\n",
    "            \n",
    "    class bike(car):\n",
    "        def tyres(self):\n",
    "            name=input(\"bike name:\")\n",
    "            no=int(input(\"bik no:\"))\n",
    "            print(tyres)\n",
    "except Exception as e:\n",
    "    print(\"Exception\",e)\n",
    "finally:\n",
    "    print(\"completed\")\n",
    "                    "
   ]
  },
  {
   "cell_type": "code",
   "execution_count": 26,
   "id": "bff49a43-3e90-4a1a-bd11-5d8745f2abc9",
   "metadata": {},
   "outputs": [
    {
     "name": "stdin",
     "output_type": "stream",
     "text": [
      "enter name: bmw\n",
      "veh no: 9087\n"
     ]
    }
   ],
   "source": [
    "version=bike()\n",
    "version.vehicle()"
   ]
  },
  {
   "cell_type": "code",
   "execution_count": 32,
   "id": "efc89ed6-6ad0-4d53-b26e-8dcbd56f86c2",
   "metadata": {},
   "outputs": [
    {
     "name": "stdout",
     "output_type": "stream",
     "text": [
      "<generator object x at 0x000001CBA59CBED0>\n",
      "1\n"
     ]
    }
   ],
   "source": [
    "###generator tools\n",
    "def x():\n",
    "    for i in range(1,10):\n",
    "        yield i\n",
    "x=x()\n",
    "print(x)\n",
    "print(next(x))\n",
    "    \n",
    "    "
   ]
  },
  {
   "cell_type": "code",
   "execution_count": 33,
   "id": "e5b2362c-0623-4f17-90ce-6019899c8714",
   "metadata": {},
   "outputs": [
    {
     "data": {
      "text/plain": [
       "2"
      ]
     },
     "execution_count": 33,
     "metadata": {},
     "output_type": "execute_result"
    }
   ],
   "source": [
    "next(x)"
   ]
  },
  {
   "cell_type": "code",
   "execution_count": 38,
   "id": "744cd72f-2470-487a-bcb3-fc4c2774d95a",
   "metadata": {},
   "outputs": [
    {
     "name": "stdout",
     "output_type": "stream",
     "text": [
      "1\n",
      "2\n",
      "3\n"
     ]
    }
   ],
   "source": [
    "# Creating an iterator\n",
    "my_list = [1, 2, 3]\n",
    "my_iter = iter(my_list)\n",
    "\n",
    "print(next(my_iter))  \n",
    "print(next(my_iter))  \n",
    "print(next(my_iter))  \n"
   ]
  },
  {
   "cell_type": "code",
   "execution_count": 39,
   "id": "cf4e7795-760e-4a4f-92ad-f20fa1ec9f80",
   "metadata": {},
   "outputs": [
    {
     "name": "stdout",
     "output_type": "stream",
     "text": [
      "1\n",
      "2\n",
      "3\n"
     ]
    }
   ],
   "source": [
    "# Creating a generator function\n",
    "def my_generator():\n",
    "    yield 1\n",
    "    yield 2\n",
    "    yield 3\n",
    "\n",
    "gen = my_generator()\n",
    "\n",
    "print(next(gen))  \n",
    "print(next(gen))  \n",
    "print(next(gen))  \n"
   ]
  },
  {
   "cell_type": "code",
   "execution_count": 63,
   "id": "8ee4373d-5d9c-474b-a64e-41f0bea43f50",
   "metadata": {},
   "outputs": [
    {
     "name": "stdout",
     "output_type": "stream",
     "text": [
      "working in IT.\n",
      "Selected!\n",
      "working in cg vak.\n"
     ]
    }
   ],
   "source": [
    "def my_decorator(cravin):\n",
    "    def rahul():\n",
    "        print(\"working in IT.\")\n",
    "        cravin()\n",
    "        print(\"working in cg vak.\")\n",
    "    return rahul\n",
    "\n",
    "@my_decorator\n",
    "def sanjai():\n",
    "    print(\"Selected!\")\n",
    "\n",
    "sanjai()\n"
   ]
  },
  {
   "cell_type": "code",
   "execution_count": null,
   "id": "d327bc18-f2df-4879-ace5-63c4ba3baed3",
   "metadata": {},
   "outputs": [],
   "source": [
    "\n",
    "my_list = [1, 2, 3]\n",
    "my_iter = iter(my_list)\n",
    "\n",
    "print(next(my_iter))  \n",
    "print(next(my_iter))  \n",
    "print(next(my_iter))  \n"
   ]
  }
 ],
 "metadata": {
  "kernelspec": {
   "display_name": "Python [conda env:base] *",
   "language": "python",
   "name": "conda-base-py"
  },
  "language_info": {
   "codemirror_mode": {
    "name": "ipython",
    "version": 3
   },
   "file_extension": ".py",
   "mimetype": "text/x-python",
   "name": "python",
   "nbconvert_exporter": "python",
   "pygments_lexer": "ipython3",
   "version": "3.12.7"
  }
 },
 "nbformat": 4,
 "nbformat_minor": 5
}
