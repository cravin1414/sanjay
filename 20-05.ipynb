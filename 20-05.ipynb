{
 "cells": [
  {
   "cell_type": "code",
   "execution_count": 25,
   "id": "8e527246-2921-4974-820f-390079a56ed4",
   "metadata": {},
   "outputs": [
    {
     "name": "stdin",
     "output_type": "stream",
     "text": [
      "no: 55.0\n"
     ]
    },
    {
     "name": "stdout",
     "output_type": "stream",
     "text": [
      "131.0\n"
     ]
    }
   ],
   "source": [
    "#revision\n",
    "def temp():\n",
    " a=float(input(\"no:\"))\n",
    " heat=(a*9/5)+32\n",
    " return heat\n",
    "print(temp())"
   ]
  },
  {
   "cell_type": "code",
   "execution_count": 40,
   "id": "d28aedfa-ec90-4ef9-9d0e-207691bb9d93",
   "metadata": {},
   "outputs": [],
   "source": [
    "###oops concepts\n",
    "class college:\n",
    "    no_of_students=100\n",
    "    no_of_courses=50\n",
    "    no_of_prof=50\n",
    "def msc():\n",
    "    print(\"don nair\")\n",
    "def bsc():\n",
    "    print(\"Got tc\")\n",
    "    \n",
    "        \n",
    "    "
   ]
  },
  {
   "cell_type": "code",
   "execution_count": 41,
   "id": "353d2e42-efc8-4d8f-970b-aad2752e7d39",
   "metadata": {},
   "outputs": [
    {
     "name": "stdout",
     "output_type": "stream",
     "text": [
      "50\n",
      "50\n"
     ]
    }
   ],
   "source": [
    "obj1=college()\n",
    "print(obj1.no_of_courses)\n",
    "no_of_prof=100\n",
    "obj2=college()\n",
    "print(obj2.no_of_prof)\n",
    "\n"
   ]
  },
  {
   "cell_type": "code",
   "execution_count": 37,
   "id": "50f515be-7cfa-4dac-9318-19e2c7a7fade",
   "metadata": {},
   "outputs": [
    {
     "name": "stdin",
     "output_type": "stream",
     "text": [
      " my name : nair\n",
      "my age : 30\n"
     ]
    }
   ],
   "source": [
    "class person:\n",
    "    name=input(\" my name :\")\n",
    "    age=int(input(\"my age :\"))\n",
    "    \n",
    "    "
   ]
  },
  {
   "cell_type": "code",
   "execution_count": 43,
   "id": "95379446-3f27-4091-a428-df7c3a46744d",
   "metadata": {},
   "outputs": [
    {
     "name": "stdout",
     "output_type": "stream",
     "text": [
      "nair\n",
      "30\n"
     ]
    }
   ],
   "source": [
    "obj1=person()\n",
    "print(obj1.name)\n",
    "print(obj1.age)\n"
   ]
  },
  {
   "cell_type": "code",
   "execution_count": 9,
   "id": "d26d1241-c9d4-4b35-8e82-00bfb28b870a",
   "metadata": {},
   "outputs": [],
   "source": [
    "def rahul():\n",
    "    subject=lambda x,y:x+y\n",
    "    print(subject(10,20))\n",
    "    "
   ]
  },
  {
   "cell_type": "code",
   "execution_count": 14,
   "id": "b683caa3-088f-4c3c-a828-a0d978ac9304",
   "metadata": {},
   "outputs": [
    {
     "name": "stdout",
     "output_type": "stream",
     "text": [
      "30\n",
      "Odd number\n"
     ]
    }
   ],
   "source": [
    "def rahul():\n",
    "    subject = lambda x, y: x + y\n",
    "    result = subject(10, 20)\n",
    "    print(result)\n",
    "    \n",
    "    if result < 20:\n",
    "        print(\"Even number\")\n",
    "    else:\n",
    "        print(\"Odd number\")\n",
    "\n",
    "rahul()\n"
   ]
  },
  {
   "cell_type": "code",
   "execution_count": 15,
   "id": "7c966b5d-f491-4f91-8d72-7ec31f47a1c9",
   "metadata": {},
   "outputs": [
    {
     "name": "stdout",
     "output_type": "stream",
     "text": [
      "40\n",
      "even number\n"
     ]
    }
   ],
   "source": [
    "def rahul():\n",
    "    sub = lambda a, b: a + b\n",
    "    value = sub(10,30)\n",
    "    print(value)\n",
    "\n",
    "    if value > 20:\n",
    "        print(\"even number\")\n",
    "    else:\n",
    "        print(\"odd number\")\n",
    "\n",
    "rahul()"
   ]
  },
  {
   "cell_type": "code",
   "execution_count": 3,
   "id": "de086dff-b60e-4946-9e08-1b45ac95142f",
   "metadata": {},
   "outputs": [
    {
     "name": "stdout",
     "output_type": "stream",
     "text": [
      "This is the constructor\n",
      " my Name is: Rahul\n"
     ]
    }
   ],
   "source": [
    "class Student:\n",
    "    def __init__(self):\n",
    "        print(\"This is the constructor\")\n",
    "        self.name = \"Rahul\"\n",
    "\n",
    "    def my_name(self):\n",
    "        print(\" my Name is:\", self.name)\n",
    "\n",
    "\n",
    "s1 = Student()\n",
    "\n",
    "\n",
    "s1.my_name()\n"
   ]
  },
  {
   "cell_type": "code",
   "execution_count": 7,
   "id": "8a6ef7e4-0185-441f-b8ca-d90a33085bfe",
   "metadata": {},
   "outputs": [
    {
     "name": "stdout",
     "output_type": "stream",
     "text": [
      "('cravin', 'sanjay')\n",
      "0.3333333333333333\n"
     ]
    }
   ],
   "source": [
    "##__str__,__repr__\n",
    "x='cravin','sanjay'\n",
    "print(str(x))\n",
    "print(str(3/9))"
   ]
  },
  {
   "cell_type": "code",
   "execution_count": 51,
   "id": "42afbc1b-1433-4480-99e4-de0a5f0c716d",
   "metadata": {},
   "outputs": [
    {
     "name": "stdin",
     "output_type": "stream",
     "text": [
      "enter the name: cravin\n"
     ]
    },
    {
     "name": "stdout",
     "output_type": "stream",
     "text": [
      "'cravin'\n",
      "3.0\n"
     ]
    }
   ],
   "source": [
    "x=input(\"enter the name:\")\n",
    "print(repr(x))\n",
    "print(str(9/3))"
   ]
  },
  {
   "cell_type": "code",
   "execution_count": 19,
   "id": "0752032d-a277-412a-b1c5-8d022632b143",
   "metadata": {},
   "outputs": [
    {
     "name": "stdout",
     "output_type": "stream",
     "text": [
      "door opened.\n",
      "enter the car and get started.\n",
      "throttle increased\n",
      "good\n"
     ]
    }
   ],
   "source": [
    "##encapsulation\n",
    "class car():\n",
    "    def open_door_and_proceed(self):\n",
    "        print(\"door opened.\")\n",
    "        print(\"enter the car and get started.\")\n",
    "        self._accerlate()\n",
    "    def _accerlate(self):\n",
    "        print(\"throttle increased\")\n",
    "        self.__engine_performing()\n",
    "            \n",
    "    def __engine_performing(self):\n",
    "        print(\"good\")\n",
    "        \n",
    "my_car = car()\n",
    "my_car.open_door_and_proceed()\n",
    "    "
   ]
  },
  {
   "cell_type": "code",
   "execution_count": 20,
   "id": "de65e302-a3a4-461a-a676-a742f4bb32ce",
   "metadata": {},
   "outputs": [
    {
     "name": "stdout",
     "output_type": "stream",
     "text": [
      "smiling.\n",
      " get started .\n",
      "in laptop\n",
      "good\n"
     ]
    }
   ],
   "source": [
    "class boy:\n",
    "    def behaviour_reaction(self):\n",
    "        print(\"smiling.\")\n",
    "        print(\" get started .\")\n",
    "        self._working()\n",
    "    def _working(self):\n",
    "        print(\"in laptop\")\n",
    "        self.__practicing_cricket()\n",
    "            \n",
    "    def __practicing_cricket(self):\n",
    "        print(\"good\")\n",
    "        \n",
    "my_boy = boy()\n",
    "my_boy.behaviour_reaction()"
   ]
  },
  {
   "cell_type": "code",
   "execution_count": 30,
   "id": "e3012eb5-5a27-405b-a81a-3bcb9d4c5475",
   "metadata": {},
   "outputs": [
    {
     "name": "stdout",
     "output_type": "stream",
     "text": [
      "smiling.\n",
      "hello.\n"
     ]
    }
   ],
   "source": [
    "class cgv():\n",
    "    def rahul_mamms(self):\n",
    "        print(\"smiling.\")\n",
    "        self.__my_boy()\n",
    "    def __my_boy(self):\n",
    "        print(\"hello.\")\n",
    "my_cgv = cgv()\n",
    "my_cgv.rahul_mamms()\n",
    "\n",
    "\n",
    "        "
   ]
  },
  {
   "cell_type": "code",
   "execution_count": 37,
   "id": "324eef6a-f899-4acd-9ec3-91a2018e8b6f",
   "metadata": {},
   "outputs": [
    {
     "data": {
      "text/plain": [
       "14"
      ]
     },
     "execution_count": 37,
     "metadata": {},
     "output_type": "execute_result"
    }
   ],
   "source": [
    "###poly and inheri\n",
    "def add(a=6,b=8):\n",
    "    return a+b\n",
    "add()"
   ]
  },
  {
   "cell_type": "code",
   "execution_count": 41,
   "id": "00246c45-2bd6-4eaf-95f6-1fbedaf46e40",
   "metadata": {},
   "outputs": [
    {
     "data": {
      "text/plain": [
       "-845"
      ]
     },
     "execution_count": 41,
     "metadata": {},
     "output_type": "execute_result"
    }
   ],
   "source": [
    "def sub(a,b,c=0):\n",
    "    return a-b*c\n",
    "sub(45,10,89)   "
   ]
  },
  {
   "cell_type": "code",
   "execution_count": 44,
   "id": "3bd11be3-1830-45df-aee6-7837aed2f951",
   "metadata": {},
   "outputs": [
    {
     "data": {
      "text/plain": [
       "'two tyres'"
      ]
     },
     "execution_count": 44,
     "metadata": {},
     "output_type": "execute_result"
    }
   ],
   "source": [
    "###inheritance\n",
    "class car():\n",
    "    def wheels(self):\n",
    "        return\"four wheels\"\n",
    "class bike(car):\n",
    "    def wheels(self):\n",
    "        return\"two tyres\"\n",
    "    def price(self):\n",
    "        return\"sufficient\"\n",
    "Vehicle=bike()\n",
    "Vehicle.wheels()"
   ]
  },
  {
   "cell_type": "code",
   "execution_count": 50,
   "id": "f905ceda-bbad-4f48-9bae-fe18716122ae",
   "metadata": {},
   "outputs": [
    {
     "name": "stdout",
     "output_type": "stream",
     "text": [
      "four rooms\n"
     ]
    }
   ],
   "source": [
    "class msc():\n",
    "    def room(self):\n",
    "        print(\"four rooms\")\n",
    "class bsc(msc):\n",
    "    def room(self):\n",
    "        print(\"two rooms\")\n",
    "college=msc()\n",
    "college.room()"
   ]
  },
  {
   "cell_type": "code",
   "execution_count": 57,
   "id": "fba9e1d3-8e48-41f6-ba06-1f1fe2810d97",
   "metadata": {},
   "outputs": [
    {
     "name": "stdin",
     "output_type": "stream",
     "text": [
      "enter the value: 56\n",
      "enter the value: cravin\n"
     ]
    },
    {
     "name": "stdout",
     "output_type": "stream",
     "text": [
      "56\n",
      "'56'\n"
     ]
    }
   ],
   "source": [
    "##__str__,repr__\n",
    "x=input(\"enter the value:\")\n",
    "y=input(\"enter the value:\")\n",
    "print(str(x))\n",
    "print(repr(x))\n"
   ]
  },
  {
   "cell_type": "code",
   "execution_count": null,
   "id": "c3b54050-d7b2-4566-9860-b01873a05d89",
   "metadata": {},
   "outputs": [],
   "source": [
    "###practice questions\n",
    "class shape():\n",
    "    def circle(self):\n",
    "        print(\"round\")\n",
    "        def square(self):\n",
    "            print(\"box\")\n",
    "       "
   ]
  },
  {
   "cell_type": "code",
   "execution_count": 72,
   "id": "6450669a-317d-4b95-a009-cc64359e37c2",
   "metadata": {},
   "outputs": [
    {
     "name": "stdin",
     "output_type": "stream",
     "text": [
      "name: ciaz\n",
      "year: 1998\n"
     ]
    }
   ],
   "source": [
    "class car():\n",
    "    brand=input(\"name:\")\n",
    "    model=int(input(\"year:\"))\n",
    "    \n"
   ]
  },
  {
   "cell_type": "code",
   "execution_count": 74,
   "id": "f7167920-0c65-46b5-93ad-93f2a51535f7",
   "metadata": {},
   "outputs": [
    {
     "name": "stdout",
     "output_type": "stream",
     "text": [
      "ciaz\n"
     ]
    }
   ],
   "source": [
    "obj1=car()\n",
    "print(obj1.brand)"
   ]
  },
  {
   "cell_type": "code",
   "execution_count": null,
   "id": "a1abd881-5aa0-4576-b2f1-e428edefc820",
   "metadata": {},
   "outputs": [],
   "source": []
  }
 ],
 "metadata": {
  "kernelspec": {
   "display_name": "Python [conda env:base] *",
   "language": "python",
   "name": "conda-base-py"
  },
  "language_info": {
   "codemirror_mode": {
    "name": "ipython",
    "version": 3
   },
   "file_extension": ".py",
   "mimetype": "text/x-python",
   "name": "python",
   "nbconvert_exporter": "python",
   "pygments_lexer": "ipython3",
   "version": "3.12.7"
  }
 },
 "nbformat": 4,
 "nbformat_minor": 5
}
